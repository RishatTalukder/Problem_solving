{
 "cells": [
  {
   "cell_type": "markdown",
   "metadata": {},
   "source": [
    "<h1 align=\"center\"> Everything about Stack & Queue </h1>\n",
    "\n",
    "`Stack` & `Queue` are two of the most important `data structures` in `computer science`. They are used in a lot of different `algorithms` and `problems`. In this article, we will learn about them in detail and solve some problems from `Leetcode` to get a better understanding of them.\n",
    "\n",
    "*** Follow me on:\n",
    "\n",
    "Linkedin: https://www.linkedin.com/in/md-rishat-talukder-a22157239/\n",
    "Github: https://github.com/RishatTalukder/leetcoding\n",
    "Youtube: https://www.youtube.com/@itvaya\n",
    "\n",
    "*** Prerequisites:\n",
    "\n",
    "- Basic knowledge of `python` and `data structures`\n",
    "- Good knowledge of `arrays` and `linked lists`.\n",
    "\n",
    "> I have articles on `arrays` and `linked lists` as well. You can check them out in my `github` repository or `linkedin` profile.\n",
    "\n",
    "# Table of Contents\n",
    "\n",
    "\n",
    "\n",
    "# Introduction\n",
    "\n",
    "`Stack & Queue` are very similar `data structures`. They are both `linear data structures` meaning these `data structures` store the `items` in a `linear fashion` just like `arrays` and `linked lists`. So, as we can implement and solve `stack & queue` problems using `arrays` and `linked lists`, I will discuss the `array` and `linked list` implementation of `stack & queue` in this article.\n",
    "\n",
    "Let's start with `stack`.\n",
    "\n",
    "# Stack\n",
    "\n",
    "## What is Stack?\n",
    "\n",
    "A `stack` is a `linear data structure` that stores items in a `Last-In/First-Out (LIFO)` or `First-In/Last-Out (FILO)` manner. In stack, a new element is added at one end and an element is removed from that end only. The `insert` and `delete` operations are often called `push` and `pop`.\n",
    "\n",
    "let's take an example of a `stack of colored plates`. Assume that you have a stack of plates on your table. The first plate you put on the table is at the bottom, so it will be the last one to be used. The last plate you put on the table is at the top, so it will be the first one to be used. This is exactly how a `stack` works.\n",
    "\n",
    "here is a picture of a `stack`:\n",
    "\n",
    "![stack](https://cdn.buttercms.com/PuR6MmOQQdqAP6xfh6JO)\n",
    "\n",
    "Here we start with an `empty stack`. We can `push` items onto the `stack` one by one. Each time we `push` an item, it goes on the `top` of the `stack`. When we `pop` an item off the `stack`, we always `pop` the `top` item. The `stack` is `empty` when there are no items on it.\n",
    "\n",
    "So, when we `push` an `item` in the `stack` it's always the last `item` and when we `pop` an `item` from the `stack` it's always the last `item` as well. This is why we call it `Last-In/First-Out (LIFO)` or `First-In/Last-Out (FILO)`.\n",
    "\n",
    "Although `stack` is a `static data structure` that means we have to specify the `size` of the `stack` before using it. But as we are using `arrays` and `linked lists` on `python` to implement `stack` and we can make a `dynamic stack` using `python` `list` and `linked list`.\n",
    "\n",
    "> Note: `Stack` is a `abstract data type` and `array` and `linked list` are the `data structures` that we use to implement `stack`.\n",
    "\n",
    "\n",
    "*** Overflow and Underflow\n",
    "\n",
    "`Overflow` condition occurs when we try to `push` an `item` into a `stack` that is `full`. A `stack` may be `full` because of two reasons:\n",
    "\n",
    "- Either it is a `fixed size` `stack` and it is `full`.\n",
    "- Or it is a `dynamic size` `stack` and the `system memory` is `full`.\n",
    "  \n",
    "`Underflow` condition occurs when we try to `pop` an `item` from a `stack` that is `empty`. A `stack` may be `empty` because of two reasons:\n",
    "\n",
    "- Either it is a `fixed size` `stack` and it is `empty`.\n",
    "- Or it is a `dynamic size` `stack` and the `system memory` is `empty`.\n",
    "\n",
    "We, will implement a `dynamic size` `stack` using `python` `list` and `linked list` in this article. So, we don't have to worry about `overflow` and `underflow` conditions.\n",
    "\n",
    "## Stack Operations\n",
    "\n",
    "A `stack` is an `abstract data type` that supports the following operations:\n",
    "\n",
    "- `push`: Adds an `item` to the `stack`. If the `stack` is `full`, then it is said to be an `Overflow condition`.\n",
    "- `pop`: Removes an `item` from the `stack`. The `items` are `popped` in the `reverse order` in which they are `pushed`. If the `stack` is `empty`, then it is said to be an `Underflow condition`.\n",
    "- `peek`: Returns the `top` element of the `stack`.\n",
    "- `isEmpty`: Returns `true` if the `stack` is `empty`, else `false`.\n",
    "- `isFull`: Returns `true` if the `stack` is `full`, else `false`.(Not mendaotry for `python` implementation)\n",
    "- `size`: Returns the `size` of the `stack`. (Not mendaotry for `python` implementation)\n",
    "  \n",
    "## Stack Implementation Using Array(python list)\n",
    "\n",
    "We can implement `stack` using `array` in `python` using `list`. We will use `list` `append` and `pop` methods to implement `stack` operations. `append` method will be used to `push` an `item` into the `stack` and `pop` method will be used to `pop` an `item` from the `stack`. `peak` method will be used to get the `top` element of the `stack`, in a list the `last element` is the `top` element of the `stack`. `isEmpty` method will be used to check if the `stack` is `empty` or not, so if the `list` is `empty` then the `stack` is `empty` as well. \n",
    "\n",
    "So, let's `initialize` the `stack`:\n",
    "\n",
    "- we will make a class called `Stack` and initialize it with an `empty list`."
   ]
  },
  {
   "cell_type": "code",
   "execution_count": 1,
   "metadata": {},
   "outputs": [],
   "source": [
    "class Stack:\n",
    "    def __init__(self) -> None:\n",
    "        self.stack = []"
   ]
  },
  {
   "cell_type": "markdown",
   "metadata": {},
   "source": [
    "now, we can instantiate the `stack`. But we need to see the what's `inside` the `stack` as well. So, we will make a `print` method to print the `stack`."
   ]
  },
  {
   "cell_type": "code",
   "execution_count": 2,
   "metadata": {},
   "outputs": [],
   "source": [
    "class Stack:\n",
    "    def __init__(self) -> None:\n",
    "        self.stack = []\n",
    "\n",
    "    def print_stack(self):\n",
    "        print(self.stack)\n",
    "\n"
   ]
  },
  {
   "cell_type": "markdown",
   "metadata": {},
   "source": [
    "Now, let's make a `new_stack` and `print` it:\n"
   ]
  },
  {
   "cell_type": "code",
   "execution_count": 3,
   "metadata": {},
   "outputs": [
    {
     "name": "stdout",
     "output_type": "stream",
     "text": [
      "[]\n"
     ]
    }
   ],
   "source": [
    "new_stack = Stack()\n",
    "\n",
    "new_stack.print_stack()"
   ]
  },
  {
   "cell_type": "markdown",
   "metadata": {},
   "source": [
    "AS you cna see there's nothing inside the stack. \n",
    "\n",
    "> When we `initialize` a `stack` it's `empty` by default but we will give the user the option to `initialize` the `stack` with some `items` as well.\n",
    "\n",
    "So, we will make some minor changes to the `__init__` method:"
   ]
  },
  {
   "cell_type": "code",
   "execution_count": 4,
   "metadata": {},
   "outputs": [
    {
     "name": "stdout",
     "output_type": "stream",
     "text": [
      "[1, 2, 3, 4, 5]\n"
     ]
    }
   ],
   "source": [
    "class Stack:\n",
    "    def __init__(self, *items) -> None:\n",
    "        self.stack = []\n",
    "\n",
    "        # check if items is not empty\n",
    "        if items:\n",
    "            for item in items:\n",
    "                self.stack.append(item)\n",
    "\n",
    "    def print_stack(self):\n",
    "        print(self.stack)\n",
    "\n",
    "new_stack = Stack(1, 2, 3, 4, 5)\n",
    "new_stack.print_stack()"
   ]
  },
  {
   "cell_type": "markdown",
   "metadata": {},
   "source": [
    "Now, we have a `stack` that we can initialize with some `items` or no items at all.\n",
    "\n",
    "### Push Operation\n",
    "\n",
    "Now, let's implement the `push` operation. We can achive this by using the `append` method of `list`. We will `append` the `item` to the `stack` and `return` `true`"
   ]
  },
  {
   "cell_type": "code",
   "execution_count": 5,
   "metadata": {},
   "outputs": [
    {
     "name": "stdout",
     "output_type": "stream",
     "text": [
      "list before push: \n",
      "[]\n",
      "list after push:  \n",
      "[1, 2, 3]\n"
     ]
    }
   ],
   "source": [
    "class Stack:\n",
    "    def __init__(self, *items) -> None:\n",
    "        self.stack = []\n",
    "\n",
    "        # check if items is not empty\n",
    "        if items:\n",
    "            for item in items:\n",
    "                self.stack.append(item)\n",
    "\n",
    "    def print_stack(self):\n",
    "        print(self.stack)\n",
    "\n",
    "    def push(self, item):\n",
    "        self.stack.append(item)\n",
    "\n",
    "new_stack = Stack()\n",
    "print(f\"list before push: \")\n",
    "new_stack.print_stack()\n",
    "new_stack.push(1)\n",
    "new_stack.push(2)\n",
    "new_stack.push(3)\n",
    "\n",
    "print(f\"list after push:  \")\n",
    "new_stack.print_stack()"
   ]
  },
  {
   "cell_type": "markdown",
   "metadata": {},
   "source": [
    "Not that complecated right?\n",
    "\n",
    "Let's make the `pop` method as well\n",
    "\n",
    "### Pop Operation\n",
    "\n",
    "The `pop` operation implemetation is also very simple. We will use the `pop` method of `list` to `pop` the `item` from the `stack` and `return` it."
   ]
  },
  {
   "cell_type": "code",
   "execution_count": 6,
   "metadata": {},
   "outputs": [
    {
     "name": "stdout",
     "output_type": "stream",
     "text": [
      "list before pop:\n",
      "[1, 2, 3, 4, 5]\n",
      "list after pop:\n",
      "[1, 2, 3]\n",
      "popped item: 5\n",
      "popped item2: 4\n"
     ]
    }
   ],
   "source": [
    "class Stack:\n",
    "    def __init__(self, *items) -> None:\n",
    "        self.stack = []\n",
    "\n",
    "        # check if items is not empty\n",
    "        if items:\n",
    "            for item in items:\n",
    "                self.stack.append(item)\n",
    "\n",
    "    def print_stack(self):\n",
    "        print(self.stack)\n",
    "\n",
    "    def push(self, item):\n",
    "        self.stack.append(item)\n",
    "\n",
    "    def pop(self):\n",
    "        return self.stack.pop()\n",
    "    \n",
    "new_stack = Stack(1, 2, 3, 4, 5)\n",
    "\n",
    "print(f\"list before pop:\")\n",
    "new_stack.print_stack()\n",
    "\n",
    "popped_item = new_stack.pop()\n",
    "popped_item2 = new_stack.pop()\n",
    "\n",
    "print(f\"list after pop:\")\n",
    "new_stack.print_stack()\n",
    "print(f\"popped item: {popped_item}\")\n",
    "print(f\"popped item2: {popped_item2}\")"
   ]
  },
  {
   "cell_type": "markdown",
   "metadata": {},
   "source": [
    "It's the simplest among all the `stack` operations.\n",
    "\n",
    "### Peek Operation\n",
    "\n",
    "The `peek` operation is also very simple. We will use the `[-1]` index to get the `top` element of the `stack` and `return` it."
   ]
  },
  {
   "cell_type": "code",
   "execution_count": 7,
   "metadata": {},
   "outputs": [
    {
     "name": "stdout",
     "output_type": "stream",
     "text": [
      "the whole stack:\n",
      "[1, 2, 3, 4, 5]\n",
      "the top item: 5\n"
     ]
    }
   ],
   "source": [
    "class Stack:\n",
    "    def __init__(self, *items) -> None:\n",
    "        self.stack = []\n",
    "\n",
    "        # check if items is not empty\n",
    "        if items:\n",
    "            for item in items:\n",
    "                self.stack.append(item)\n",
    "\n",
    "    def print_stack(self):\n",
    "        print(self.stack)\n",
    "\n",
    "    def push(self, item):\n",
    "        self.stack.append(item)\n",
    "\n",
    "    def pop(self):\n",
    "        return self.stack.pop()\n",
    "    \n",
    "    def peek(self):\n",
    "        return self.stack[-1]\n",
    "    \n",
    "new_stack = Stack(1, 2, 3, 4, 5)\n",
    "\n",
    "print(f\"the whole stack:\")\n",
    "new_stack.print_stack()\n",
    "\n",
    "print(f\"the top item: {new_stack.peek()}\")"
   ]
  },
  {
   "cell_type": "markdown",
   "metadata": {},
   "source": [
    "### isEmpty Operation\n",
    "\n",
    "`isEmpty` operation returns `true` if the `stack` is `empty` and `false` if the `stack` is not `empty`. we can just check if the `stack` is `empty` or not using `if` statement and `return` `true` or `false` accordingly."
   ]
  },
  {
   "cell_type": "code",
   "execution_count": 8,
   "metadata": {},
   "outputs": [
    {
     "name": "stdout",
     "output_type": "stream",
     "text": [
      "the whole stack:\n",
      "[1, 2, 3, 4, 5]\n",
      "is stack empty? False\n",
      "the whole stack:\n",
      "[]\n",
      "is stack empty? True\n"
     ]
    }
   ],
   "source": [
    "class Stack:\n",
    "    def __init__(self, *items) -> None:\n",
    "        self.stack = []\n",
    "\n",
    "        # check if items is not empty\n",
    "        if items:\n",
    "            for item in items:\n",
    "                self.stack.append(item)\n",
    "\n",
    "    def print_stack(self):\n",
    "        print(self.stack)\n",
    "\n",
    "    def push(self, item):\n",
    "        self.stack.append(item)\n",
    "\n",
    "    def pop(self):\n",
    "        return self.stack.pop()\n",
    "    \n",
    "    def peek(self):\n",
    "        return self.stack[-1]\n",
    "    \n",
    "    def is_empty(self):\n",
    "        # if stack has items, return False\n",
    "        if self.stack:\n",
    "            return False\n",
    "        \n",
    "        return True\n",
    "    \n",
    "new_stack = Stack(1, 2, 3, 4, 5)\n",
    "\n",
    "print(f\"the whole stack:\")\n",
    "new_stack.print_stack()\n",
    "\n",
    "print(f\"is stack empty? {new_stack.is_empty()}\")\n",
    "\n",
    "new_stack = Stack()\n",
    "\n",
    "print(f\"the whole stack:\")\n",
    "\n",
    "new_stack.print_stack()\n",
    "\n",
    "print(f\"is stack empty? {new_stack.is_empty()}\")"
   ]
  },
  {
   "cell_type": "markdown",
   "metadata": {},
   "source": [
    "That's how the `isEmpty` operation works.\n",
    "\n",
    "I leave the `isFull` and `size` operations for you to implement. It's as easy as the other operations. If you have enough knowledge of lists in python then you can implement them easily.\n",
    "\n",
    "And in case you don't know how to implement them, Here's the implementation of \n",
    "\n",
    "### Size and Clear Operation ( isFull not required because we are making a dynamic stack)\n"
   ]
  },
  {
   "cell_type": "code",
   "execution_count": 9,
   "metadata": {},
   "outputs": [
    {
     "name": "stdout",
     "output_type": "stream",
     "text": [
      "the whole stack:\n",
      "[1, 2, 3, 4, 5]\n",
      "the size of the stack: 5\n",
      "the top item: 5\n",
      "the whole stack:\n",
      "[]\n"
     ]
    }
   ],
   "source": [
    "class Stack:\n",
    "    def __init__(self, *items) -> None:\n",
    "        self.stack = []\n",
    "\n",
    "        # check if items is not empty\n",
    "        if items:\n",
    "            for item in items:\n",
    "                self.stack.append(item)\n",
    "\n",
    "    def print_stack(self):\n",
    "        print(self.stack)\n",
    "\n",
    "    def push(self, item):\n",
    "        self.stack.append(item)\n",
    "\n",
    "    def pop(self):\n",
    "        return self.stack.pop()\n",
    "    \n",
    "    def peek(self):\n",
    "        # check if stack is empty\n",
    "        if self.is_empty():\n",
    "            return None\n",
    "        \n",
    "        return self.stack[-1]\n",
    "    \n",
    "    def is_empty(self):\n",
    "        # if stack has items, return False\n",
    "        if self.stack:\n",
    "            return False\n",
    "        \n",
    "        return True\n",
    "    \n",
    "    def clear(self):\n",
    "        self.stack = []\n",
    "\n",
    "    def size(self):\n",
    "        return len(self.stack)\n",
    "    \n",
    "\n",
    "new_stack = Stack(1, 2, 3, 4, 5)\n",
    "\n",
    "print(f\"the whole stack:\")\n",
    "new_stack.print_stack()\n",
    "\n",
    "print(f\"the size of the stack: {new_stack.size()}\")\n",
    "print(f\"the top item: {new_stack.peek()}\")\n",
    "\n",
    "new_stack.clear()\n",
    "\n",
    "print(f\"the whole stack:\")\n",
    "new_stack.print_stack()"
   ]
  },
  {
   "cell_type": "markdown",
   "metadata": {},
   "source": [
    "That's the implementation of `stack` using `python` `list`. Now, let's implement `stack` using `linked list`. \n",
    "\n",
    "## Stack Implementation Using Linked List\n",
    "\n",
    "`Linked List` is the most basic `data structure` I have a article on `linked list` as well. You can check it out in my `github` repository or `linkedin` profile.\n",
    "\n",
    "Please go through the article before continuing this article. It will help you to understand the `stack` implementation using `linked list` better.\n",
    "\n",
    "Here's some basic knowledge of `linked list`:\n",
    "\n",
    "- `Linked List` is a `linear data structure` that stores `items` in a `non-contiguous` manner. Each `item` is stored in a `node`. Each `node` contains `data` and a `pointer` to the `next node`. The `first node` is called the `head` and the `last node` is called the `tail`. The `tail` points to `null` or `None` to indicate the `end of the list`.\n",
    "\n",
    "![linked list](https://media.geeksforgeeks.org/wp-content/uploads/20220712172013/Singlelinkedlist.png)\n",
    "\n",
    "So, if we compare `linked list` with `array` then we can see there are many similarities between them. So, we need to make a node first and then the `stack` using the `node`.\n",
    "\n",
    "### Node Implementation\n",
    "\n",
    "We will make a `Node` class and initialize it with `data` and `next` attributes. The `data` attribute will store the `data` of the `node` and the `next` attribute will store the `address` of the `next node`, in this case it will be `None` because we don't have any `next node` yet."
   ]
  },
  {
   "cell_type": "code",
   "execution_count": 10,
   "metadata": {},
   "outputs": [],
   "source": [
    "class Node:\n",
    "    def __init__(self, data) -> None:\n",
    "        self.data = data # data of the node\n",
    "        self.next = None # pointer to the next node"
   ]
  },
  {
   "cell_type": "markdown",
   "metadata": {},
   "source": [
    "Now we can instantiate the `node` and `print` it:"
   ]
  },
  {
   "cell_type": "code",
   "execution_count": 11,
   "metadata": {},
   "outputs": [
    {
     "name": "stdout",
     "output_type": "stream",
     "text": [
      "new_node.data: 1\n"
     ]
    }
   ],
   "source": [
    "new_node = Node(1)\n",
    "\n",
    "print(f\"new_node.data: {new_node.data}\")"
   ]
  },
  {
   "cell_type": "markdown",
   "metadata": {},
   "source": [
    "AS, you can see we have a `node` with `data` and `next` attributes. Now we can make the `stack` using this `node`.\n",
    "\n",
    "### Stack Implementation\n",
    "\n",
    "`Linked List` is a `dynamic data structure` that means we don't have to specify the `size` of the `linked list` before using it. \n",
    "\n",
    "Stack is like a `upside down linked list`. The `top` of the `stack` is the `head` of the `linked list` and the `bottom` of the `stack` is the `tail` of the `linked list`. \n",
    "\n",
    "Here, the `head` is the top because we need to be a little clever. If we make the `tail` the `top` then we have to traverse the whole `linked list` to `push` an `item` into the `stack` which has a `time complexity` of `O(n)` but if we make the `head` the `top` then we can `push` an `item` into the `stack` in `O(1)` time.\n",
    "\n",
    "So, we will make a `Stack` class and initialize it with a `top` attribute and we don't really nead a `bottom` attribute because we are `pushing` and `popping` from the `top` only. And we will also make a `size` attribute to keep track of the `size` of the `stack`."
   ]
  },
  {
   "cell_type": "code",
   "execution_count": 12,
   "metadata": {},
   "outputs": [
    {
     "name": "stdout",
     "output_type": "stream",
     "text": [
      "new_stack.top.data: 1\n"
     ]
    }
   ],
   "source": [
    "class Node:\n",
    "    def __init__(self, data) -> None:\n",
    "        self.data = data # data of the node\n",
    "        self.next = None # pointer to the next node\n",
    "\n",
    "class Stack:\n",
    "    def __init__(self,value):\n",
    "        #create a new node\n",
    "        new_node = Node(value)\n",
    "        self.top = new_node\n",
    "        self.height = 1\n",
    "\n",
    "new_stack = Stack(1)\n",
    "print(f\"new_stack.top.data: {new_stack.top.data}\")"
   ]
  },
  {
   "cell_type": "markdown",
   "metadata": {},
   "source": [
    "So, we have created a new node and assigned it to the top of the stack. Now, let’s add a new node to the top of the stack. \n",
    "\n",
    "We will make some more changes to the `constructor` later but for now we have a `stack` that we can `initialize` with a `item` but we always have to `add` with one `item` exactly. AS we progress through the whole article we will make some changes to the `constructor` to make it more `user friendly`.\n",
    "\n",
    "### Push Operation\n",
    "\n",
    "Now, let's implement the `push` operation. We will make a `new_node` and assign it to the `top` of the `stack`. Then we will make the `new_node` the `top` of the `stack` and `increment` the `size` of the `stack` by `1`.\n",
    "\n",
    "It's almost like implementing the `linked list` equivalent of `prepend` method."
   ]
  },
  {
   "cell_type": "code",
   "execution_count": 14,
   "metadata": {},
   "outputs": [
    {
     "name": "stdout",
     "output_type": "stream",
     "text": [
      "new_stack.top.data: 1\n",
      "new_stack.top.data after pushing 2 items: 3\n"
     ]
    }
   ],
   "source": [
    "class Stack:\n",
    "    def __init__(self,value):\n",
    "        #create a new node\n",
    "        new_node = Node(value)\n",
    "\n",
    "        # set top to the new node\n",
    "        self.top = new_node\n",
    "        self.height = 1\n",
    "\n",
    "    def push(self, value):\n",
    "        # create a new node\n",
    "        new_node = Node(value)\n",
    "\n",
    "        # set the new node's next to the current top\n",
    "        new_node.next = self.top\n",
    "\n",
    "        # set the new node to the top\n",
    "        self.top = new_node\n",
    "\n",
    "        # increment the height\n",
    "        self.height += 1\n",
    "\n",
    "        return True \n",
    "    \n",
    "\n",
    "new_stack = Stack(1)\n",
    "print(f\"new_stack.top.data: {new_stack.top.data}\")\n",
    "new_stack.push(2)\n",
    "new_stack.push(3)\n",
    "\n",
    "print(f\"new_stack.top.data after pushing 2 items: {new_stack.top.data}\")\n",
    "        "
   ]
  },
  {
   "cell_type": "markdown",
   "metadata": {},
   "source": [
    "succesfully `pushed` an `item` into the `stack`. But here's a porblem we can't print the `stack` because we don't have a `print` method. So, let's make a `print` method.\n",
    "\n",
    "### Print Operation\n",
    "\n",
    "We will make a `print` method that will print the `stack` in a `list` format. We will make a `current_node` and assign it to the `top` of the `stack`. Then we will loop through the `stack` and print the `data` of each `node`.\n",
    "\n"
   ]
  },
  {
   "cell_type": "code",
   "execution_count": 15,
   "metadata": {},
   "outputs": [
    {
     "name": "stdout",
     "output_type": "stream",
     "text": [
      "the whole stack:\n",
      "5\n",
      "4\n",
      "3\n",
      "2\n",
      "1\n"
     ]
    }
   ],
   "source": [
    "class Stack:\n",
    "    def __init__(self,value):\n",
    "        #create a new node\n",
    "        new_node = Node(value)\n",
    "\n",
    "        # set top to the new node\n",
    "        self.top = new_node\n",
    "        self.height = 1\n",
    "\n",
    "    def push(self, value):\n",
    "        # create a new node\n",
    "        new_node = Node(value)\n",
    "\n",
    "        # if the stack is empty then set the new node to the top\n",
    "        if self.height == 0:\n",
    "            self.top = new_node\n",
    "            self.height += 1\n",
    "            return True\n",
    "        \n",
    "        # set the new node's next to the current top\n",
    "        new_node.next = self.top\n",
    "\n",
    "        # set the new node to the top\n",
    "        self.top = new_node\n",
    "\n",
    "        # increment the height\n",
    "        self.height += 1\n",
    "\n",
    "        return True\n",
    "    \n",
    "    def print_stack(self):\n",
    "        # create a new node to keep track of the current node\n",
    "        current_node = self.top\n",
    "\n",
    "        # loop through the stack\n",
    "        while current_node:\n",
    "            print(current_node.data)\n",
    "            current_node = current_node.next\n",
    "\n",
    "new_stack = Stack(1)\n",
    "new_stack.push(2)\n",
    "new_stack.push(3)\n",
    "new_stack.push(4)\n",
    "new_stack.push(5)\n",
    "\n",
    "print(f\"the whole stack:\")\n",
    "new_stack.print_stack()\n"
   ]
  },
  {
   "cell_type": "markdown",
   "metadata": {},
   "source": [
    "So, we have a `print` method that prints the `stack` in a `list` format. Now, let's implement the `pop` operation.\n",
    "\n",
    "> Note: I also made some changes to the `push` operation to check if the `stack` is `empty` or not. If the `stack` is `empty` then we will `push` the `item` as the `top` of the `stack` and `increment` the `size` of the `stack` by `1`. If the `stack` is not `empty` then everything will be the same.\n",
    "\n",
    "### Pop Operation\n",
    "\n",
    "The `pop` operation is the `linked list` equivalent of `popfirst` method. We will make a `current_node` and assign it to the `top` of the `stack`. Then we will make the `top` of the `stack` the `next node` of the `current_node` and `decrement` the `size` of the `stack` by `1`. \n",
    "\n",
    "We have keep eye on the `size` of the `stack` as well. If the `size` of the `stack` is `0` then we will `return` `None` because there's nothing to `pop` from the `stack`."
   ]
  },
  {
   "cell_type": "code",
   "execution_count": 16,
   "metadata": {},
   "outputs": [
    {
     "name": "stdout",
     "output_type": "stream",
     "text": [
      "the whole stack:\n",
      "5\n",
      "4\n",
      "3\n",
      "2\n",
      "1\n",
      "popping the top item......\n",
      "the whole stack:\n",
      "4\n",
      "3\n",
      "2\n",
      "1\n",
      "popped item: 5\n"
     ]
    }
   ],
   "source": [
    "class Stack:\n",
    "    def __init__(self,*values):\n",
    "        #create a new node\n",
    "        self.Top = None\n",
    "        #starting height is 0\n",
    "        self.height = 0\n",
    "        \n",
    "        # check if values is not empty\n",
    "        if values:\n",
    "            # loop through the values and push them to the stack\n",
    "            for value in values:\n",
    "                self.push(value)\n",
    "\n",
    "    def push(self, value):\n",
    "        # create a new node\n",
    "        new_node = Node(value)\n",
    "\n",
    "        # if the stack is empty then set the new node to the top\n",
    "        if self.height == 0:\n",
    "            self.top = new_node\n",
    "            self.height += 1\n",
    "            return True\n",
    "        \n",
    "        # set the new node's next to the current top\n",
    "        new_node.next = self.top\n",
    "\n",
    "        # set the new node to the top\n",
    "        self.top = new_node\n",
    "\n",
    "        # increment the height\n",
    "        self.height += 1\n",
    "\n",
    "        return True\n",
    "    \n",
    "    def print_stack(self):\n",
    "        # create a new node to keep track of the current node\n",
    "        current_node = self.top\n",
    "\n",
    "        # loop through the stack\n",
    "        while current_node:\n",
    "            print(current_node.data)\n",
    "            current_node = current_node.next\n",
    "\n",
    "    def pop(self):\n",
    "        # check if the stack is empty\n",
    "        if self.height == 0:\n",
    "            return None\n",
    "\n",
    "        # get the top item\n",
    "        top_item = self.top\n",
    "\n",
    "        # set the top to the next item\n",
    "        self.top = top_item.next\n",
    "        # remove the top item connection\n",
    "        top_item.next = None\n",
    "\n",
    "        # decrement the height\n",
    "        self.height -= 1\n",
    "\n",
    "        return top_item\n",
    "    \n",
    "\n",
    "# now we can create a stack with multiple items\n",
    "new_stack = Stack(1, 2, 3, 4, 5)\n",
    "\n",
    "print(f\"the whole stack:\")\n",
    "new_stack.print_stack()\n",
    "\n",
    "print(f\"popping the top item......\")\n",
    "popped_item = new_stack.pop()\n",
    "\n",
    "print(f\"the whole stack:\")\n",
    "new_stack.print_stack()\n",
    "\n",
    "print(f\"popped item: {popped_item.data}\")"
   ]
  },
  {
   "cell_type": "markdown",
   "metadata": {},
   "source": [
    "Well, it looks like everything is working fine. \n",
    "\n",
    "> I made some changes in the `__init__` method to make it more `user friendly`. As we have implememnted the `push` operation earlier we can use it to `initialize` the `stack` with some `items` or no `items` at all. That's why i started the `__init__` method with `*values` which will store the `items` in a `tuple`. Then we will loop through the `values` and `push` them into the `stack`.\n",
    "\n",
    "\n",
    "Now we can add the other operations like `peek`, `isEmpty` and `clear` by ourselves. It's not that complecated. If you have enough knowledge of `linked list` then you can implement them easily.\n",
    "\n",
    "And in case you don't know how to implement them, Here's the implementation of\n",
    "\n",
    "### Peek, isEmpty and Clear Operation\n",
    "\n",
    "`Peek` is `top` of the `stack`, `isEmpty` returns `true` if the `stack` is `empty` and `false` if the `stack` is not `empty` and `clear` clears the `stack`."
   ]
  },
  {
   "cell_type": "code",
   "execution_count": 18,
   "metadata": {},
   "outputs": [
    {
     "name": "stdout",
     "output_type": "stream",
     "text": [
      "the whole stack:\n",
      "56\n",
      "45\n",
      "34\n",
      "23\n",
      "12\n",
      "the top item: 56\n",
      "is stack empty? False\n",
      "clearing the stack......\n",
      "the whole stack:\n",
      "is stack empty? True\n"
     ]
    }
   ],
   "source": [
    "class Stack:\n",
    "    def __init__(self,*values):\n",
    "        #create a new node\n",
    "        self.Top = None\n",
    "        #starting height is 0\n",
    "        self.height = 0\n",
    "        \n",
    "        # check if values is not empty\n",
    "        if values:\n",
    "            # loop through the values and push them to the stack\n",
    "            for value in values:\n",
    "                self.push(value)        \n",
    "\n",
    "    def push(self, value):\n",
    "        # create a new node\n",
    "        new_node = Node(value)\n",
    "\n",
    "        # if the stack is empty then set the new node to the top\n",
    "        if self.height == 0:\n",
    "            self.top = new_node\n",
    "            self.height += 1\n",
    "            return True\n",
    "        \n",
    "        # set the new node's next to the current top\n",
    "        new_node.next = self.top\n",
    "\n",
    "        # set the new node to the top\n",
    "        self.top = new_node\n",
    "\n",
    "        # increment the height\n",
    "        self.height += 1\n",
    "\n",
    "        return True\n",
    "    \n",
    "    def print_stack(self):\n",
    "        # create a new node to keep track of the current node\n",
    "        current_node = self.top\n",
    "\n",
    "        if self.height == 0:\n",
    "            return None\n",
    "        \n",
    "        # loop through the stack\n",
    "        while current_node:\n",
    "            print(current_node.data)\n",
    "            current_node = current_node.next\n",
    "\n",
    "    def pop(self):\n",
    "        # check if the stack is empty\n",
    "        if self.height == 0:\n",
    "            return None\n",
    "\n",
    "        # get the top item\n",
    "        top_item = self.top\n",
    "\n",
    "        # set the top to the next item\n",
    "        self.top = top_item.next\n",
    "        # remove the top item connection\n",
    "        top_item.next = None\n",
    "\n",
    "        # decrement the height\n",
    "        self.height -= 1\n",
    "\n",
    "        return top_item\n",
    "    \n",
    "\n",
    "    def peek(self):\n",
    "        # check if the stack is empty\n",
    "        if self.height == 0:\n",
    "            return None\n",
    "        \n",
    "        return self.top\n",
    "    \n",
    "    def is_empty(self):\n",
    "        # if stack has items, return False\n",
    "        if self.height:\n",
    "            return False\n",
    "        \n",
    "        return True\n",
    "    \n",
    "    def clear(self):\n",
    "        self.top = None\n",
    "        self.height = 0\n",
    "    \n",
    "\n",
    "# now we can create a stack with multiple items\n",
    "new_stack = Stack(12, 23, 34, 45, 56)\n",
    "\n",
    "print(f\"the whole stack:\")\n",
    "new_stack.print_stack()\n",
    "\n",
    "print(f\"the top item: {new_stack.peek().data}\")\n",
    "\n",
    "print(f\"is stack empty? {new_stack.is_empty()}\")\n",
    "\n",
    "print(f\"clearing the stack......\")\n",
    "new_stack.clear()\n",
    "\n",
    "print(f\"the whole stack:\")\n",
    "new_stack.print_stack()\n",
    "\n",
    "print(f\"is stack empty? {new_stack.is_empty()}\")"
   ]
  },
  {
   "cell_type": "markdown",
   "metadata": {},
   "source": [
    "***DONE!!!***\n",
    "\n",
    "We did it. We have implemented `stack` using `python` `list` and `linked list`. Now, time for more fun stuff.\n",
    "\n",
    "And by fun stuff I mean,\n",
    "> There is a built-in `stack` in `python` all-ready. :D\n",
    "\n",
    "## Built-in Stack\n",
    "\n",
    "`Python` has a built-in `stack` called `deque`. It's a `double-ended queue` that supports adding and removing elements from either end in `O(1)` time. It's a `dynamic data structure` that means we don't have to specify the `size` of the `deque` before using it."
   ]
  },
  {
   "cell_type": "code",
   "execution_count": null,
   "metadata": {},
   "outputs": [],
   "source": []
  }
 ],
 "metadata": {
  "kernelspec": {
   "display_name": "ML_ENV",
   "language": "python",
   "name": "python3"
  },
  "language_info": {
   "codemirror_mode": {
    "name": "ipython",
    "version": 3
   },
   "file_extension": ".py",
   "mimetype": "text/x-python",
   "name": "python",
   "nbconvert_exporter": "python",
   "pygments_lexer": "ipython3",
   "version": "3.11.0"
  }
 },
 "nbformat": 4,
 "nbformat_minor": 2
}
