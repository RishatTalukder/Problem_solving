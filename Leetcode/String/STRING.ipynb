{
 "cells": [
  {
   "cell_type": "markdown",
   "metadata": {},
   "source": [
    "<h1 align=\"center\"> Everything about String</h1>\n",
    "\n",
    "`String` is one of the most important data structures in programming. It is a sequence of characters. In this article I talk what is `string`, how to declare `string` in `python`, how to access `string` elements, how to slice `string`, how to iterate `string`, how to reverse `string` and more importantly how to solve `string` problems in `leetcode`.\n",
    "\n",
    "This is another article of my `mastering competitive programming` series. If you are interested to learn more about competitive programming, you can check out my other articles on this topic on `linkedin`.\n",
    "\n",
    "*** Follow me on:\n",
    "\n",
    "Linkedin: https://www.linkedin.com/in/md-rishat-talukder-a22157239\n",
    "\n",
    "Github: https://github.com/RishatTalukder/leetcoding\n",
    "\n",
    "Youtube: https://www.youtube.com/@itvaya\n",
    "\n",
    "*** Prerequisites:\n",
    "\n",
    "- Basic knowledge of `python` and `data structures`.\n",
    "- Basic knowledge of `leetcode` platform.\n",
    "\n",
    "**Table of contents**<a id='toc0_'></a>    \n",
    "- [Introduction to String](#toc1_)    \n",
    "  - [What is String?](#toc1_1_)    \n",
    "- [String In Python](#toc2_)    \n",
    "  - [How to declare a string in python?](#toc2_1_)    \n",
    "  - [How to access string elements?](#toc2_2_)    \n",
    "  - [Looping through a string](#toc2_3_)    \n",
    "- [Check if a string contains a substring](#toc3_)    \n",
    "  - [String slicing](#toc3_1_)    \n",
    "  - [Modifying a string](#toc3_2_)    \n",
    "  - [String concatenation](#toc3_3_)    \n",
    "  - [String formatting](#toc3_4_)    \n",
    "  - [Escaping characters](#toc3_5_)    \n",
    "  - [String methods](#toc3_6_)    \n",
    "- [Problem solving](#toc4_)    \n",
    "  - [Problem 1: Valid palindrome (125)](#toc4_1_)    \n",
    "    - [Problem statement](#toc4_1_1_)    \n",
    "    - [Solution](#toc4_1_2_)    \n",
    "  - [Problem 2: Valid anaagram (242)](#toc4_2_)    \n",
    "    - [Problem statement](#toc4_2_1_)    \n",
    "    - [Solution](#toc4_2_2_)    \n",
    "  - [Problem 3: Longest Pelingdrome (409)](#toc4_3_)    \n",
    "    - [Problem statement](#toc4_3_1_)    \n",
    "    - [Solution](#toc4_3_2_)    \n",
    "  - [Problem 4: Longest substring without repeating characters (3)](#toc4_4_)    \n",
    "    - [Problem statement](#toc4_4_1_)    \n",
    "    - [Solution](#toc4_4_2_)    \n",
    "  - [Problem 5: Sting to integer (8)](#toc4_5_)    \n",
    "    - [Problem statement](#toc4_5_1_)    \n",
    "    - [Solution](#toc4_5_2_)    \n",
    "  - [Problem 6: Longest Pellindromic Substring (5)](#toc4_6_)    \n",
    "    - [Problem statement](#toc4_6_1_)    \n",
    "    - [Solution](#toc4_6_2_)    \n",
    "  - [Problem 7: Find all anagrams in a string](#toc4_7_)    \n",
    "    - [Problem statement](#toc4_7_1_)    \n",
    "    - [Solution](#toc4_7_2_)    \n",
    "  - [Problem 8: Minimum window substring (76)](#toc4_8_)    \n",
    "    - [Problem statement](#toc4_8_1_)    \n",
    "    - [Solution](#toc4_8_2_)    \n",
    "    - [Time complexity](#toc4_8_3_)    \n",
    "    - [Space complexity](#toc4_8_4_)    \n",
    "- [Conclusion](#toc5_)    \n",
    "        - [Happy coding :)](#toc5_1_1_1_1_)    \n",
    "\n",
    "<!-- vscode-jupyter-toc-config\n",
    "\tnumbering=false\n",
    "\tanchor=true\n",
    "\tflat=false\n",
    "\tminLevel=1\n",
    "\tmaxLevel=6\n",
    "\t/vscode-jupyter-toc-config -->\n",
    "<!-- THIS CELL WILL BE REPLACED ON TOC UPDATE. DO NOT WRITE YOUR TEXT IN THIS CELL -->\n",
    "\n",
    "\n",
    "# <a id='toc1_'></a>[Introduction to String](#toc0_)\n",
    "\n",
    "## <a id='toc1_1_'></a>[What is String?](#toc0_)\n",
    "\n",
    "`String` is a sequence of characters. Like a `array` or `list`, `string` is also a `sequence` data structure. \n",
    "\n",
    "There are many similarities between `string` and `array` or `list`. For example, we can access `string` elements using `index` and `slice` `string` using `start` and `end` index.\n",
    "\n",
    "So, `string` is a `sequence` data structure. But, `string` is not a `list` or `array`. `String` is a `immutable` data structure. That means, we can not change `string` elements. We can only access `string` elements.\n",
    "\n",
    "To give you a better understanding, let's see an example.\n",
    "\n",
    "My name is `Rishat`. Here, `Rishat` is a `string`. We can not change any character of this `string`. We can only access the characters of this `string`.\n",
    "\n",
    "The index starts from the very left of the `string` and the index is `0`. That's it.\n",
    "\n",
    "There is really not much to talk about `string`. So, let's move on to how we can use `string` in `python`.\n",
    "\n",
    "# <a id='toc2_'></a>[String In Python](#toc0_)\n",
    "\n",
    "String is a `data type` in python and an `iterable object` just like `lists` , `tuples` and `dictionaries`. So, they all some very similar properties.\n",
    "\n",
    "## <a id='toc2_1_'></a>[How to declare a string in python?](#toc0_)\n",
    "\n",
    "We can declare a `string` in `python` using `single quotes` or `double quotes`. Let's see an example.\n",
    "\n"
   ]
  },
  {
   "cell_type": "code",
   "execution_count": 1,
   "metadata": {},
   "outputs": [
    {
     "name": "stdout",
     "output_type": "stream",
     "text": [
      "ITVAYA\n"
     ]
    }
   ],
   "source": [
    "name = \"ITVAYA\"\n",
    "print(name)"
   ]
  },
  {
   "cell_type": "markdown",
   "metadata": {},
   "source": [
    "You can do the same thing using `single quotes`."
   ]
  },
  {
   "cell_type": "code",
   "execution_count": 2,
   "metadata": {},
   "outputs": [
    {
     "name": "stdout",
     "output_type": "stream",
     "text": [
      "ITVAYA\n"
     ]
    }
   ],
   "source": [
    "name = 'ITVAYA'\n",
    "print(name)"
   ]
  },
  {
   "cell_type": "markdown",
   "metadata": {},
   "source": [
    "Simple right? But there is a catch, you cannot use `single quotes` inside `single quotes` and `double quotes` inside `double quotes`. Let's see an example."
   ]
  },
  {
   "cell_type": "code",
   "execution_count": 3,
   "metadata": {},
   "outputs": [
    {
     "ename": "SyntaxError",
     "evalue": "invalid syntax (3525084538.py, line 2)",
     "output_type": "error",
     "traceback": [
      "\u001b[0;36m  Cell \u001b[0;32mIn[3], line 2\u001b[0;36m\u001b[0m\n\u001b[0;31m    name = 'Hey, my name is 'rishat taluker''\u001b[0m\n\u001b[0m                             ^\u001b[0m\n\u001b[0;31mSyntaxError\u001b[0m\u001b[0;31m:\u001b[0m invalid syntax\n"
     ]
    }
   ],
   "source": [
    "#demo of single quote inside single quote\n",
    "name = 'Hey, my name is 'rishat taluker''\n",
    "print(name)"
   ]
  },
  {
   "cell_type": "markdown",
   "metadata": {},
   "source": [
    "The error says, `SyntaxError: Invalid syntax`. That means, we cannot use `single quotes` inside `single quotes` and `double quotes` inside `double quotes`.\n",
    "\n",
    "But, we can use `single quotes` inside `double quotes` and `double quotes` inside `single quotes`. Let's see an example."
   ]
  },
  {
   "cell_type": "code",
   "execution_count": 4,
   "metadata": {},
   "outputs": [
    {
     "name": "stdout",
     "output_type": "stream",
     "text": [
      "hello, my name is 'rishat taluker'\n"
     ]
    }
   ],
   "source": [
    "name = \"hello, my name is 'rishat taluker'\"\n",
    "print(name)"
   ]
  },
  {
   "cell_type": "markdown",
   "metadata": {},
   "source": [
    "Well this works fine. \n",
    "\n",
    "There is a way around `single quotes` inside `single quotes` and `double quotes` inside `double quotes`. we will see how we can do that later.\n",
    "\n",
    "Just before that, let's see how we can declare a `string` using `triple quotes`.\n",
    "\n"
   ]
  },
  {
   "cell_type": "code",
   "execution_count": 5,
   "metadata": {},
   "outputs": [
    {
     "name": "stdout",
     "output_type": "stream",
     "text": [
      "\n",
      "    hello!!\n",
      "    my name is \n",
      "    Rishat Talukder\n",
      "\n"
     ]
    }
   ],
   "source": [
    "name  = '''\n",
    "    hello!!\n",
    "    my name is \n",
    "    Rishat Talukder\n",
    "'''\n",
    "print(name)"
   ]
  },
  {
   "cell_type": "markdown",
   "metadata": {},
   "source": [
    "Now you see that we can easily use `triple quotes` which is really three `single quotes` or three `double quotes` to declare a `string` in `python`. The difference is this will store the `string` as it is and nothing will change.\n",
    "\n",
    "## <a id='toc2_2_'></a>[How to access string elements?](#toc0_)\n",
    "\n",
    "We can access `string` elements using `index` just like `lists` and `tuples`. Let's see an example."
   ]
  },
  {
   "cell_type": "code",
   "execution_count": 6,
   "metadata": {},
   "outputs": [
    {
     "name": "stdout",
     "output_type": "stream",
     "text": [
      "h\n"
     ]
    }
   ],
   "source": [
    "a = \"hello, world\"\n",
    "print(a[0])"
   ]
  },
  {
   "cell_type": "markdown",
   "metadata": {},
   "source": [
    "we just printed the first character of the `string` using `index`. The index starts from `0` and goes to `n-1` where `n` is the length of the `string`.\n",
    "\n",
    "SO, if you remember, we can find a `array` length using `len()` function which is also applicable for `string`. Let's see an example. And we will try to print the last character of the `string`."
   ]
  },
  {
   "cell_type": "code",
   "execution_count": 7,
   "metadata": {},
   "outputs": [
    {
     "name": "stdout",
     "output_type": "stream",
     "text": [
      "12\n"
     ]
    }
   ],
   "source": [
    "length = len(a) # finding the length of the string\n",
    "print(length)"
   ]
  },
  {
   "cell_type": "code",
   "execution_count": 8,
   "metadata": {},
   "outputs": [
    {
     "name": "stdout",
     "output_type": "stream",
     "text": [
      "d\n"
     ]
    }
   ],
   "source": [
    "print(a[12-1])"
   ]
  },
  {
   "cell_type": "markdown",
   "metadata": {},
   "source": [
    "We just simply printed the last character of the `string` and we did that using `len()` function. But that was a lot of manual work and we need our `software` to be `dynamic`. So, we will use `len()` function to print the last character of the `string`."
   ]
  },
  {
   "cell_type": "code",
   "execution_count": 9,
   "metadata": {},
   "outputs": [
    {
     "name": "stdout",
     "output_type": "stream",
     "text": [
      "d\n"
     ]
    }
   ],
   "source": [
    "print(a[len(a)-1])"
   ]
  },
  {
   "cell_type": "markdown",
   "metadata": {},
   "source": [
    "We told python that `give me the cheracter at the index of the length of the string minus 1`. And just like I said earlier the index starts from `0` and goes to `n-1` where `n` is the length of the `string`. So, we can be sure that we will get the last character of the `string`.\n",
    "\n",
    "But we can do better then that. Because I also said that `strings` and `lists` have the most in common. Like there is a way to access the last element of a `list` using `-1` index we can do the same thing for `string`. Let's see an example."
   ]
  },
  {
   "cell_type": "code",
   "execution_count": 10,
   "metadata": {},
   "outputs": [
    {
     "name": "stdout",
     "output_type": "stream",
     "text": [
      "d\n"
     ]
    }
   ],
   "source": [
    "print(a[-1])"
   ]
  },
  {
   "cell_type": "markdown",
   "metadata": {},
   "source": [
    "SO, when we want to index from the `left` side we will start from `0` then `1` and so on. But when we want to index from the `right` side we will start from `-1` then `-2` and so on.\n",
    "\n",
    "> If you know abotu python lists you know about almost all the `iterable` objects in python.\n",
    "\n",
    "## <a id='toc2_3_'></a>[Looping through a string](#toc0_)\n",
    "\n",
    "We can loop through a `string` using `for loop`. Let's see an example."
   ]
  },
  {
   "cell_type": "code",
   "execution_count": 11,
   "metadata": {},
   "outputs": [
    {
     "name": "stdout",
     "output_type": "stream",
     "text": [
      "l\n",
      "o\n",
      "r\n",
      "e\n",
      "m\n",
      " \n",
      "i\n",
      "p\n",
      "s\n",
      "u\n",
      "m\n",
      " \n",
      "i\n",
      "s\n",
      " \n",
      "s\n",
      "i\n",
      "m\n",
      "p\n",
      "l\n",
      "y\n"
     ]
    }
   ],
   "source": [
    "txt = \"lorem ipsum is simply\"\n",
    "\n",
    "for char in txt:\n",
    "    print(char)"
   ]
  },
  {
   "cell_type": "markdown",
   "metadata": {},
   "source": [
    "I think you know that the `for loop` `loops` looking at the `length` of the `iterable` object and stores the `index` in a `variable`. Then we can use that `variable` to access the `elements` of the `iterable` object.\n",
    "\n",
    "In this case, we are looping through the `string` and storing the `characters` in the `variable` called `char`. Then we are printing the `char` variable.\n",
    "\n",
    "> `space` is also a character.\n",
    "\n",
    "# <a id='toc3_'></a>[Check if a string contains a substring](#toc0_)\n",
    "\n",
    "We can check if a `string` contains a `substring` using `in` keyword. Let's see an example.\n"
   ]
  },
  {
   "cell_type": "code",
   "execution_count": 12,
   "metadata": {},
   "outputs": [
    {
     "name": "stdout",
     "output_type": "stream",
     "text": [
      "True\n"
     ]
    }
   ],
   "source": [
    "print(\"rishat\" in \"my name is rishat talukder\")"
   ]
  },
  {
   "cell_type": "markdown",
   "metadata": {},
   "source": [
    "It returns `true` because the `string` contains the `substring`.\n",
    "\n",
    "we can also check if a `string` `does not` contain a `substring`. Let's see an example."
   ]
  },
  {
   "cell_type": "code",
   "execution_count": 13,
   "metadata": {},
   "outputs": [
    {
     "name": "stdout",
     "output_type": "stream",
     "text": [
      "False\n"
     ]
    }
   ],
   "source": [
    "print(\"rishat\" not in \"my name is rishat talukder\")"
   ]
  },
  {
   "cell_type": "code",
   "execution_count": 14,
   "metadata": {},
   "outputs": [
    {
     "name": "stdout",
     "output_type": "stream",
     "text": [
      "rishat is not in the string\n"
     ]
    }
   ],
   "source": [
    "txt = \"my name is ITVAYA\"\n",
    "\n",
    "if \"rishat\" not in txt:\n",
    "\n",
    "  print(\"rishat is not in the string\")\n",
    "\n",
    "else:\n",
    "  print(\"rishat is in the string\")"
   ]
  },
  {
   "cell_type": "markdown",
   "metadata": {},
   "source": [
    "So, if you want to check if a `string` contains a `substring` you can use `in` keyword. And if you want to check if a `string` does not contain a `substring` you can use `not in` keyword.\n",
    "\n",
    "## <a id='toc3_1_'></a>[String slicing](#toc0_)\n",
    "\n",
    "> Same as the `list` slicing again\n",
    "\n",
    "SO, string slicing is a very handy tool. We can slice a `string` using `start` and `end` index. Let's see an example."
   ]
  },
  {
   "cell_type": "code",
   "execution_count": 15,
   "metadata": {},
   "outputs": [],
   "source": [
    "text = \"I like my life, totally cool and chill, noithing to worry about, just a happy life, totally not in the verge of a mental breakdown\""
   ]
  },
  {
   "cell_type": "code",
   "execution_count": 16,
   "metadata": {},
   "outputs": [
    {
     "name": "stdout",
     "output_type": "stream",
     "text": [
      "first five letters:  I ate\n"
     ]
    }
   ],
   "source": [
    "text = \"I ate 5 apples\"\n",
    "\n",
    "first_five_letters = text[0:5]\n",
    "print(\"first five letters: \", first_five_letters)"
   ]
  },
  {
   "cell_type": "markdown",
   "metadata": {},
   "source": [
    "Nice right? and did you see what I did when I printed the `string`? I used a comma `,` to print the string `the first five letters: ` and then I used `string slicing` to print the `string` from `0` to `5`. This way if you need to print multiple `strings` you can do that easily.\n",
    "\n",
    "Now let's talk about how we did it.\n",
    "\n",
    "> `string[start:end]` this is how we slice a `string`.\n",
    "> `start` is the starting index and `end` is the ending index+1. because if you know about `any kind of slicing` you know that the `end` index is not included.\n",
    "\n",
    "So, we sliced the `string` from `0` to `5` and we got the first five characters of the `string`. Now here's the thing, by default the `start` index is `0` and the `end` index is `length of the string`. So, if we don't provide any `start` or `end` index we will get the whole `string`. Let's see an example."
   ]
  },
  {
   "cell_type": "code",
   "execution_count": 17,
   "metadata": {},
   "outputs": [
    {
     "name": "stdout",
     "output_type": "stream",
     "text": [
      "the whole string:  I ate 5 apples\n"
     ]
    }
   ],
   "source": [
    "print(\"the whole string: \", text[:])"
   ]
  },
  {
   "cell_type": "markdown",
   "metadata": {},
   "source": [
    "So, the `start` index is `0` and the `end` index is automatically the `length` of the `string`. So, we don't need to worry about `how are we going to get the whole string`.\n",
    "\n",
    "There's another thing we can do with `string slicing`. We can provide a `step/jump` value. Let's see an example."
   ]
  },
  {
   "cell_type": "code",
   "execution_count": 18,
   "metadata": {},
   "outputs": [
    {
     "name": "stdout",
     "output_type": "stream",
     "text": [
      "the whole string but skipping every other letter:  Iae5ape\n"
     ]
    }
   ],
   "source": [
    "print(\"the whole string but skipping every other letter: \", text[::2])"
   ]
  },
  {
   "cell_type": "markdown",
   "metadata": {},
   "source": [
    "look at the output and tell me what do you see? We skipped a character right? That's because we provided a `step/jump` value of `2`. So, we skipped a character.\n",
    "\n",
    "> step is 1 by default.\n",
    "\n",
    "Here's some more examples."
   ]
  },
  {
   "cell_type": "code",
   "execution_count": 19,
   "metadata": {},
   "outputs": [
    {
     "name": "stdout",
     "output_type": "stream",
     "text": [
      "the whole string but skipping every other letter:  Iae5ape\n",
      "the list from index 2 to 6:  ate \n",
      "the list from index 2 to 6 but skipping every other letter:  ae\n",
      "the list from index 2 to the end:  ate 5 apples\n",
      "the whole string:  I ate 5 apples\n"
     ]
    }
   ],
   "source": [
    "# example of slicing\n",
    "\n",
    "text = \"I ate 5 apples\"\n",
    "\n",
    "print(\"the whole string but skipping every other letter: \", text[::2])\n",
    "\n",
    "print(\"the list from index 2 to 6: \", text[2:6])\n",
    "\n",
    "print(\"the list from index 2 to 6 but skipping every other letter: \", text[2:6:2])\n",
    "\n",
    "print(\"the list from index 2 to the end: \", text[2:])\n",
    "\n",
    "print(\"the whole string: \", text[::])"
   ]
  },
  {
   "cell_type": "markdown",
   "metadata": {},
   "source": [
    "That's all I know of `string slicing`. If you know more about `string slicing` please let me know in the comment section.\n",
    "\n",
    "## <a id='toc3_2_'></a>[Modifying a string](#toc0_)\n",
    "\n",
    "I told you before that a `string` is a `immutable` data structure. That means, we can not change `string` elements. We can only access `string` elements.\n",
    "\n",
    "But in python we have some methods that can change `string` elements to some extent. Let's see some examples."
   ]
  },
  {
   "cell_type": "code",
   "execution_count": 20,
   "metadata": {},
   "outputs": [
    {
     "name": "stdout",
     "output_type": "stream",
     "text": [
      "HELLO, WORLD\n",
      "hello, world\n"
     ]
    }
   ],
   "source": [
    "txt = \"hello, world\"\n",
    "\n",
    "print(txt.upper())\n",
    "\n",
    "print(txt.lower())"
   ]
  },
  {
   "cell_type": "markdown",
   "metadata": {},
   "source": [
    "So, the `upper` and `lower` method changes the `string` to `uppercase` and `lowercase` respectively. But the charecters of the `string` remains the same.\n",
    "\n",
    "There are some other methods that can change the `string` elements like: `strip`, `replace`, `split` etc. I think you will have a better understanding of these methods if you see some examples. So, let's see some examples."
   ]
  },
  {
   "cell_type": "code",
   "execution_count": 21,
   "metadata": {},
   "outputs": [
    {
     "name": "stdout",
     "output_type": "stream",
     "text": [
      "the string in uppercase:  HELLO, WORLD\n",
      "the string in lowercase:  hello, world\n",
      "the string in capitalized:  Hello, world\n",
      "the string in title case:  Hello, World\n",
      "the string in replace:  hello, rishat\n",
      "the string in split:  ['hello', ' world']\n",
      "white space removed from the left:  hello, world             \n",
      "white space removed from the right:               hello, world\n",
      "white space removed from both sides:  hello, world\n"
     ]
    }
   ],
   "source": [
    "print(\"the string in uppercase: \" ,txt.upper())\n",
    "print(\"the string in lowercase: \" ,txt.lower())\n",
    "print(\"the string in capitalized: \" ,txt.capitalize())\n",
    "print(\"the string in title case: \" ,txt.title())\n",
    "print(\"the string in replace: \" ,txt.replace('world', 'rishat'))\n",
    "print(\"the string in split: \" ,txt.split(','))\n",
    "\n",
    "new_txt = \"             hello, world             \"\n",
    "\n",
    "print(\"white space removed from the left: \" ,new_txt.lstrip())\n",
    "print(\"white space removed from the right: \" ,new_txt.rstrip())\n",
    "print(\"white space removed from both sides: \" ,new_txt.strip())"
   ]
  },
  {
   "cell_type": "markdown",
   "metadata": {},
   "source": [
    "So, we will go one by one. First we will see the `capitalize` method.\n",
    "\n",
    "So, the `capitalize` method changes the first character of the `string` to `uppercase` and the rest of the characters to `lowercase`.\n",
    "\n",
    "Now let's see the `title` method.\n",
    "\n",
    "So, the `title` method changes the first character of every word to `uppercase` and the rest of the characters to `lowercase`.\n",
    "\n",
    "Now for the `replace` method.\n",
    "\n",
    "So, the `replace` method replaces the `old` character with the `new` character.\n",
    "\n",
    "Next is the `strip` method.\n",
    "\n",
    "So, the `strip` method removes the `white space` from the `string`. We can also use `lstrip` and `rstrip` to remove the `white space` from the `left` and `right` side of the `string` respectively.\n",
    "\n",
    "last but not least, the `split` method.\n",
    "\n",
    "So, the `split` method splits the `string` into a `list` of `strings` using the `delimiter` we provided. By default the `delimiter` is `space`.\n",
    "\n",
    "Now, we can use this in many ways and I leave the rest to you.\n",
    "\n",
    "## <a id='toc3_3_'></a>[String concatenation](#toc0_)\n",
    "\n",
    "Again if you know about `python lists` you know about `string concatenation`. We can concatenate `strings` using `+` operator. Let's see an example."
   ]
  },
  {
   "cell_type": "code",
   "execution_count": 22,
   "metadata": {},
   "outputs": [
    {
     "name": "stdout",
     "output_type": "stream",
     "text": [
      "helloworld\n"
     ]
    }
   ],
   "source": [
    "first_text = \"hello\"\n",
    "second_text = \"world\"\n",
    "\n",
    "full_text = first_text + second_text\n",
    "\n",
    "print(full_text)"
   ]
  },
  {
   "cell_type": "markdown",
   "metadata": {},
   "source": [
    "We just add two or more `strings` using `+` operator. That's it.\n",
    "\n",
    "So, if you want to print and store multiple `strings` you can do that easily using `+` operator. But the next feature of `string` is really cool.\n",
    "\n",
    "## <a id='toc3_4_'></a>[String formatting](#toc0_)\n",
    "\n",
    "As we've seen in the previous examples, we can print a string like this."
   ]
  },
  {
   "cell_type": "code",
   "execution_count": 23,
   "metadata": {},
   "outputs": [
    {
     "name": "stdout",
     "output_type": "stream",
     "text": [
      "hello, world rishat\n"
     ]
    }
   ],
   "source": [
    "txt = \"hello, world\"\n",
    "txt2 = \"rishat\"\n",
    "\n",
    "print(txt, txt2)"
   ]
  },
  {
   "cell_type": "markdown",
   "metadata": {},
   "source": [
    "To print a `string` we use `print()` function and inside the `print()` function we pass the `string` we want to print. But it doesn't give use much flexibility. We can also try to print a `string` like this."
   ]
  },
  {
   "cell_type": "code",
   "execution_count": 24,
   "metadata": {},
   "outputs": [
    {
     "name": "stdout",
     "output_type": "stream",
     "text": [
      "hello, world and this is written by rishathe is 20 years old\n"
     ]
    }
   ],
   "source": [
    "age = \"20\"\n",
    "print(txt + \" and this is written by \" + txt2 + \"he is \" + age + \" years old\")"
   ]
  },
  {
   "cell_type": "markdown",
   "metadata": {},
   "source": [
    "This way we have to make any other `datatype` a `string` using `str()` function and then there can easily be a `syntax error` if we don't use `+` operator properly. So, this is not a good way to print a `string`.\n",
    "\n",
    "TO fix this problem we have a feature called `string formatting`. Let's see an example."
   ]
  },
  {
   "cell_type": "code",
   "execution_count": 25,
   "metadata": {},
   "outputs": [
    {
     "name": "stdout",
     "output_type": "stream",
     "text": [
      "my name is rishat talukder and i am 20 years old\n"
     ]
    }
   ],
   "source": [
    "first_name = \"rishat\"\n",
    "last_name = \"talukder\"\n",
    "\n",
    "age = 20\n",
    "\n",
    "print(f\"my name is {first_name} {last_name} and i am {age} years old\")"
   ]
  },
  {
   "cell_type": "markdown",
   "metadata": {},
   "source": [
    "So, now we don't have to worry about the `datatype` of the `variables` or the `+` operator. We can just use `f` before the `string` and write any `string` we want. And if we want to use a `variable` we can just use `{}` and write the `variable` name inside the `{}`. That's it.\n",
    "\n",
    "We can also make this a little more Good looking. Let's see an example."
   ]
  },
  {
   "cell_type": "code",
   "execution_count": 26,
   "metadata": {},
   "outputs": [
    {
     "name": "stdout",
     "output_type": "stream",
     "text": [
      "My name is Rishat Talukder and i am 20 years old\n"
     ]
    }
   ],
   "source": [
    "print(f\"My name is {first_name.capitalize()} {last_name.capitalize()} and i am {age} years old\")"
   ]
  },
  {
   "cell_type": "markdown",
   "metadata": {},
   "source": [
    "now, the printed txt text looks good.\n",
    "\n",
    "> I use `string formatting or f string` all the time and i don't know if I've ever used `+` operator to concatenate `strings`.\n",
    "\n",
    "With this we are almost at the end of the `string` `basics`. Before finishing thid article I'll talk `escaping characters` and `string methods`.\n",
    "\n",
    "## <a id='toc3_5_'></a>[Escaping characters](#toc0_)\n",
    "\n",
    "`Escape characters` are used to insert characters that are illegal in a `string`. For example, `double quotes` inside `double quotes` or `single quotes` inside `single quotes`. Let's see an example."
   ]
  },
  {
   "cell_type": "code",
   "execution_count": 27,
   "metadata": {},
   "outputs": [
    {
     "name": "stdout",
     "output_type": "stream",
     "text": [
      "This is very \"boring\"\n"
     ]
    }
   ],
   "source": [
    "print(\"This is very \\\"boring\\\"\")"
   ]
  },
  {
   "cell_type": "markdown",
   "metadata": {},
   "source": [
    "So, in python we and almost all the programming languages use `\\` to escape characters. So, if we want to use `double quotes` inside `double quotes` we can use `\\` before the `double quotes` and the `double quotes` will be printed just like the example above.\n",
    "\n",
    "There are other `escape characters` like: `\\n`, `\\t`, `\\b`, `\\r` etc. I'll give an example for each of them."
   ]
  },
  {
   "cell_type": "code",
   "execution_count": 28,
   "metadata": {},
   "outputs": [
    {
     "name": "stdout",
     "output_type": "stream",
     "text": [
      "This is very \\boring\\\n",
      "A new line \n",
      " is here \n",
      "\n",
      "This is a \t tab\n",
      "This is a backspace\n"
     ]
    }
   ],
   "source": [
    "#\\\\\n",
    "print(\"This is very \\\\boring\\\\\")\n",
    "# new line\n",
    "print(\"A new line \\n is here \\n\")\n",
    "#\\t\n",
    "print(\"This is a \\t tab\")\n",
    "#\\b\n",
    "print(\"This is a \\b backspace\")"
   ]
  },
  {
   "cell_type": "markdown",
   "metadata": {},
   "source": [
    "These are the most common `escape characters` and I think you will be able to use them in your `string` problems.\n",
    "\n",
    "## <a id='toc3_6_'></a>[String methods](#toc0_)\n",
    "\n",
    "There are many `string methods` in python.\n",
    "\n",
    "- `capitalize()` - Capitalizes the first character of the string\n",
    "- `casefold()` - Converts string into lower case\n",
    "- `center()` - Returns a centered string\n",
    "- `count()` - Returns the number of times a specified value occurs in a string\n",
    "- `encode()` - Returns an encoded version of the string\n",
    "- `find()` - Searches the string for a specified value and returns the position of where it was found\n",
    "- `format()` - Formats specified values in a string\n",
    "- `index()` - Searches the string for a specified value and returns the position of where it was found(same as find() but raises an exception if the value is not found)\n",
    "- `isalnum()` - Returns True if all characters in the string are alphanumeric\n",
    "- `isalpha()` - Returns True if all characters in the string are in the alphabet\n",
    "- `isdecimal()` - Returns True if all characters in the string are decimals\n",
    "- `isdigit()` - Returns True if all characters in the string are digits\n",
    "\n",
    "And many more. these are some of the `string methods` and my advice is to go to the `python documentation` or `w3schools (https://www.w3schools.com/python/python_strings_methods.asp)` and practice all the `string methods`. I have never used some of the `string methods` and I don't know if I'll ever use them. But I think you should know about them.\n",
    "\n",
    "So, go to the `w3schools link` and just see the examples and try to understand what they do. That's it.\n",
    "\n",
    "# <a id='toc4_'></a>[Problem solving](#toc0_)\n",
    "\n",
    "Now, we will solve some `string` problems from `Leetcode` to get a better understanding of them.\n",
    "\n",
    "I'll aolve problems from `grind 75` list. You can find the list here: https://www.techinterviewhandbook.org/grind75?grouping=topics\n",
    "\n",
    "This is a `very good list` of `75` `leetcode` problems. I highly recommend you to solve all the problems from this list. It will help you to get a `job` as well.\n",
    "\n",
    "> Note: Remember to always solve these problems on your own first. If you can't solve them then you can look at the solution. But don't just copy the solution. Try to understand the solution and then implement it yourself. It will help you to learn a lot.\n",
    "\n",
    "So, let's start with the first problem.\n",
    "\n",
    "## <a id='toc4_1_'></a>[Problem 1: Valid palindrome (125)](#toc0_)\n",
    "\n",
    "### <a id='toc4_1_1_'></a>[Problem statement](#toc0_)\n",
    "\n",
    "A `phrase` is a `palindrome` if it reads the same backward as forward. After ignoring all `non-alphanumeric` characters, such as `punctuation` and `spaces` and converting all `uppercase` letters to `lowercase`, if it's a `palindrome`, then it is a `valid palindrome`.\n",
    "\n",
    "Given a `string` `s`, return `true` if the `s` is a `valid palindrome`.\n",
    "\n",
    "example 1:\n",
    "\n",
    "```\n",
    "\n",
    "input: s = \"A man, a plan, a canal: Panama\"\n",
    "Output: true\n",
    "Explanation: \"amanaplanacanalpanama\" is a palindrome.\n",
    "\n",
    "```\n",
    "\n",
    "example 2:\n",
    "\n",
    "```\n",
    "\n",
    "input = \"race a car\"\n",
    "Output: false\n",
    "Explanation: \"raceacar\" is not a palindrome.\n",
    "\n",
    "```\n",
    "\n",
    "example 3:\n",
    "\n",
    "```\n",
    "\n",
    "Input: s = \" \"\n",
    "Output: true\n",
    "Explanation: s is an empty string \"\" after removing non-alphanumeric characters.\n",
    "Since an empty string reads the same forward and backward, it is a palindrome.\n",
    "\n",
    "```\n",
    "\n",
    "### <a id='toc4_1_2_'></a>[Solution](#toc0_)\n",
    "\n",
    "This is a `easy` difficulty problem. SO, I always say that `O(n^2)` is not a good solution. So, we will not try to brute force this problem. We will try to solve this problem in `O(n)` time complexity.\n",
    "\n",
    "If you've read my `array` article you know that there is a `two pointer` technique to solve this kind of problems. We will use the same technique to solve this problem.\n",
    "\n",
    "We will use two `pointers` one will start from the `left` side and the other will start from the `right` side. And we will compare the `characters` of the `string` using these two `pointers`. If the `characters` are not the same then we will return `false`. Otherwise, we will return `true`.\n",
    "\n",
    "*** Solution steps\n",
    "\n",
    "- Declare two `pointers` `left` and `right` and initialize them to `0` and `length of the string - 1` respectively.\n",
    "- Loop through the `string` using `left` and `right` pointers.\n",
    "- If the `characters` are not the same then return `false`.\n",
    "- Otherwise, return `true`.\n",
    "- If the `string` is empty return `true`.\n",
    "\n",
    "*** Solution code\n",
    "\n",
    "```python\n",
    "\n",
    "class Solution:\n",
    "    def isPalindrome(self, s: str) -> bool:\n",
    "        left = 0\n",
    "        right = len(s) - 1\n",
    "        while left < right:\n",
    "            #checking if the character is not alphanumeric meaning it is a space or a punctuation\n",
    "            if not s[left].isalnum():\n",
    "                left += 1\n",
    "                \n",
    "            elif not s[right].isalnum():\n",
    "                right -= 1\n",
    "\n",
    "            #checking if the characters are not the same\n",
    "            elif s[left].lower() != s[right].lower():\n",
    "                return False\n",
    "            \n",
    "            else:\n",
    "                left += 1\n",
    "                right -= 1\n",
    "\n",
    "        #if the string is empty or the loop is finished then return true\n",
    "        return True\n",
    "\n",
    "```\n",
    "\n",
    "*** Complexity analysis\n",
    "\n",
    "- Time complexity : `O(n)`. We are looping through the `string` once.\n",
    "- Space complexity : `O(1)`. We are not using any extra space.\n",
    "\n",
    "## <a id='toc4_2_'></a>[Problem 2: Valid anaagram (242)](#toc0_)\n",
    "\n",
    "### <a id='toc4_2_1_'></a>[Problem statement](#toc0_)\n",
    "\n",
    "Given two `strings` `s` and `t`, return `true` if `t` is an `anagram` of `s`, and `false` otherwise.\n",
    "\n",
    "An `anagram` is a `word` or `phrase` formed by rearranging the letters of a different `word` or `phrase`, typically using all the original letters exactly once.\n",
    "\n",
    "example 1:\n",
    "\n",
    "```\n",
    "\n",
    "input: s = \"anagram\", t = \"nagaram\"\n",
    "Output: true\n",
    "\n",
    "```\n",
    "\n",
    "example 2:\n",
    "\n",
    "```\n",
    "\n",
    "input = \"rat\", t = \"car\"\n",
    "Output: false\n",
    "\n",
    "```\n",
    "\n",
    "### <a id='toc4_2_2_'></a>[Solution](#toc0_)\n",
    "\n",
    "This is another `easy` difficulty problem. But we need to be careful about the `time complexity`. We will try to solve this problem in `O(n)` time complexity.\n",
    "\n",
    "So, If you've solved the other `Grind 75` problems you know that we used a `counter` to solve some of the problems. We will use the same technique to solve this problem.\n",
    "\n",
    "We will use a `counter` to count the `characters` of the `string` `s`. \n",
    "\n",
    "Then we use another `counter` to count the `characters` of the `string` `t`. \n",
    "\n",
    "Then we will compare the `counters`. If the `counters` are the same then we will return `true`. Otherwise, we will return `false`.\n",
    "\n",
    "*** Solution steps\n",
    "\n",
    "- Declare two `counters` `s_counter` and `t_counter`.\n",
    "- Loop through the `string` `s` and count the `characters` using `s_counter`.\n",
    "- Loop through the `string` `t` and count the `characters` using `t_counter`.\n",
    "- Compare the `counters`. If the `counters` are the same then return `true`. Otherwise, return `false`.\n",
    "\n",
    "\n",
    "*** Solution code\n",
    "\n",
    "```python\n",
    "# I'll be using the collections.Counter() method to count the characters of the string\n",
    "# this will make the code a lot easier to read and write\n",
    "from collections import Counter\n",
    "\n",
    "class Solution:\n",
    "    def isAnagram(self, s: str, t: str) -> bool:\n",
    "        s_counter = Counter(s) #counting the characters of the string s\n",
    "        t_counter = Counter(t) #counting the characters of the string t\n",
    "        \n",
    "        #comparing the counters, if the counters are the same then return true\n",
    "        if s_counter == t_counter:\n",
    "            return True\n",
    "        else:\n",
    "            return False\n",
    "\n",
    "```\n",
    "\n",
    "*** Complexity analysis\n",
    "\n",
    "- Time complexity : `O(n)`. We are looping through the `string` once.\n",
    "- Space complexity : `O(1)`. We are not using any extra space.\n",
    "\n",
    "## <a id='toc4_3_'></a>[Problem 3: Longest Pelingdrome (409)](#toc0_)\n",
    "\n",
    "### <a id='toc4_3_1_'></a>[Problem statement](#toc0_)\n",
    "\n",
    "Given a `string` `s` which consists of lowercase or uppercase letters, return the `length` of the `longest palindrome` that can be built with those letters.\n",
    "\n",
    "`Letters` are `case sensitive`, for example, `\"Aa\"` is not considered a `palindrome` here.\n",
    "\n",
    "example 1:\n",
    "\n",
    "```\n",
    "\n",
    "input: s = \"abccccdd\"\n",
    "Output: 7\n",
    "\n",
    "```\n",
    "\n",
    "example 2:\n",
    "\n",
    "```\n",
    "\n",
    "input = \"a\"\n",
    "\n",
    "Output: 1\n",
    "\n",
    "```\n",
    "\n",
    "### <a id='toc4_3_2_'></a>[Solution](#toc0_)\n",
    "\n",
    "This is comparatively a `harder` problem. But I don't know why it's in the `easy` section. Anyway, we will try to solve this problem in `O(n)` time complexity.\n",
    "\n",
    "\n",
    "I said comparatively harder because we need to find out how many `palingdromes` we can make using the `characters` of the `string` and we also have to find out the `length` of the `longest palindrome`. This can look like it's impossible to solve in `O(n)` time complexity. But it's not.\n",
    "\n",
    "If we use a little bit of `math` we can solve this problem in `O(n)` time complexity. Let's see how.\n",
    "\n",
    "Suppose we have a `string` like this: `abccccdd`. Let's see how many times each `character` occurs in the `string`.\n",
    "\n",
    "```\n",
    "\n",
    "a: 1\n",
    "b: 1\n",
    "c: 4\n",
    "d: 2\n",
    "\n",
    "```\n",
    "\n",
    "Now, we can see that we can make a `palingdrome` of `length` `4` just by using `c` `4` times. And we can also use `d` `2` times to make a `palingdrome` of `length` `2`, if we add `c` `4` times and `d` `2` times we will get a `palingdrome` of `length` `6`.\n",
    "\n",
    "What does `c` and `d` have in common? They are both `even`. So, we can use all the `even` `characters` to make a `palingdrome`. But what if we have an `odd` `character`? \n",
    "\n",
    "So, in the above example we have `a` and `b` which are `odd`. So, we can use `a` and `b` `1` time each to make a `palingdrome` of `length` `2`. But we can only use one of them. So, now we see that if we have a `even` `character` we can use all of them to make a `palingdrome`. But if we have an `odd` `character` we can only use that `character` `1` time no metter how many of them we have.\n",
    "\n",
    "Now, there is one other scenario. What if there is a `character` that is `odd` and there is more than one of them? Like let say we have `3` `a`. We can take `2` of them and make a `palingdrome` of `length` `2`. Again if the length is `5` we can take `4` of them and you can see the pattern. So, we can take `n-1` of the `odd` `characters` and make a `palingdrome` of `length` `n-1`.\n",
    "\n",
    "SOOOO, we have to make a `counter` to count all the `characters` of the `string`. Then we have to loop through the `counter` and find out how many `even` `characters` and `odd` `characters` we have. Then we have to add all the `even` `characters` and `odd` `characters` - 1. And if there are any `odd` `characters` left we have to add `1` to the `length`.\n",
    "\n",
    "*** Solution steps\n",
    "\n",
    "- Declare a `counter` and count all the `characters` of the `string`.\n",
    "- Declare two `variables` `result` and `odd` and initialize them to `0`.\n",
    "- Loop through the `counter` and find out how many `even` `characters` and `odd` `characters` we have.\n",
    "- Add all the `even` `characters` and `odd` `characters` - 1 to the `result` variable.\n",
    "- Every time we add a `character` to the `result` we add `1` to the `odd` variable.\n",
    "- If there are more than `0` `odd` `characters` left we add `1` to the `result` variable.\n",
    "- Return the `result` variable.\n",
    "\n",
    "*** Solution code\n",
    "\n",
    "```python\n",
    "\n",
    "from collections import Counter\n",
    "\n",
    "class Solution:\n",
    "    def longestPalindrome(self, s: str) -> int:\n",
    "        counter = Counter(s) #counting the characters of the string\n",
    "        result = 0 #declaring a variable to store the result\n",
    "        odd = 0 #declaring a variable to store the odd characters\n",
    "        \n",
    "        values = counter.values() #getting the values of the counter\n",
    "\n",
    "        #looping through the values\n",
    "        for value in values:\n",
    "            #if the value is even\n",
    "            if value % 2 == 0:\n",
    "                result += value #adding the value to the result\n",
    "            #if the value is odd\n",
    "            else:\n",
    "                result += value - 1 #adding the value - 1 to the result\n",
    "                odd += 1 #adding 1 to the odd variable\n",
    "\n",
    "        #if there are more than 0 odd characters left\n",
    "        if odd > 0:\n",
    "            result += 1 #adding 1 to the result\n",
    "\n",
    "        return result #returning the result\n",
    "\n",
    "```\n",
    "\n",
    "now, we have a good `mathematical` solution to this problem. \n",
    "\n",
    "*** Complexity analysis\n",
    "\n",
    "- Time complexity : `O(n)`. We are looping through the `string` once.\n",
    "- Space complexity : `O(n)`. We are not using any extra space.\n",
    "\n",
    "## <a id='toc4_4_'></a>[Problem 4: Longest substring without repeating characters (3)](#toc0_)\n",
    "\n",
    "### <a id='toc4_4_1_'></a>[Problem statement](#toc0_)\n",
    "\n",
    "Given a `string` `s`, find the `length` of the `longest substring` without repeating characters.\n",
    "\n",
    "example 1:\n",
    "\n",
    "```\n",
    "\n",
    "input: s = \"abcabcbb\"\n",
    "Output: 3\n",
    "\n",
    "```\n",
    "\n",
    "example 2:\n",
    "\n",
    "```\n",
    "\n",
    "input = \"bbbbb\"\n",
    "Output: 1\n",
    "\n",
    "```\n",
    "\n",
    "### <a id='toc4_4_2_'></a>[Solution](#toc0_)\n",
    "\n",
    "This is a `medium` difficulty problem. And I like this problem because you need to think a little bit to solve this problem and also need to know about `sliding window` technique.\n",
    "\n",
    "`sliding window` is a very useful technique to solve many `string` problems specially problems and if you see this type of problems where you need go through the list in a `linear` way and you need to find out the `longest` or `shortest` something then you can use `sliding window` technique.\n",
    "\n",
    "So, we will use `sliding window` technique to solve this problem. Let's see how.\n",
    "\n",
    "We will use two `pointers` `left` and `right` and we will use a `set` to store the `characters` of the `string`. We will loop through the `string` using `right` pointer and add the `characters` to the `set`. \n",
    "\n",
    "If the `character` is already in the `set` that means we have a `repeating character`. \n",
    "\n",
    "so, we will remove the `character` from the `set` and we will increase the `left` pointer by `1`. We will keep doing this until we don't have any `repeating characters`.\n",
    "\n",
    "Every time we remove a `character` from the `set` we will check if the `length` of the `set` is greater than the `result` variable. If it is then we will update the `result` variable.\n",
    "\n",
    "*** Solution steps\n",
    "\n",
    "- Declare two `pointers` `left` and `right` and initialize them to `0`.\n",
    "- Declare a `set` to store the `characters` of the `string`.\n",
    "- Declare a `result` variable to store the `length` of the `longest substring`.\n",
    "- Loop through the `string` using `right` pointer.\n",
    "- If the `character` is already in the `set` then remove the `character` from the `set` and increase the `left` pointer by `1`.\n",
    "- If the `character` is not in the `set` then add the `character` to the `set`.\n",
    "- Every time we remove a `character` from the `set` we will check if the `length` of the `set` is greater than the `result` variable. If it is then we will update the `result` variable.\n",
    "- Return the `result` variable.\n",
    "\n",
    "*** Solution code\n",
    "\n",
    "```python\n",
    "\n",
    "class Solution:\n",
    "    def lengthOfLongestSubstring(self, s: str) -> int:\n",
    "        left = 0 #declaring a left pointer\n",
    "        right = 0 #declaring a right pointer\n",
    "        result = 0 #declaring a variable to store the result\n",
    "        characters = set() #declaring a set to store the characters of the string\n",
    "\n",
    "        #looping through the string using the right pointer\n",
    "        while right < len(s):\n",
    "            #if the character is already in the set\n",
    "            if s[right] in characters:\n",
    "                characters.remove(s[left]) #removing the character from the set\n",
    "                left += 1 #increasing the left pointer by 1\n",
    "            #if the character is not in the set\n",
    "            else:\n",
    "                characters.add(s[right]) #adding the character to the set\n",
    "                right += 1 #increasing the right pointer by 1\n",
    "\n",
    "            #checking if the length of the set is greater than the result\n",
    "            if len(characters) > result:\n",
    "                result = len(characters) #updating the result\n",
    "\n",
    "        return result #returning the result\n",
    "\n",
    "```\n",
    "\n",
    "This problem is literally the definition of `sliding window` technique. SO, try to understand this solution very well. Because there are many problems where you can use this technique.\n",
    "\n",
    "Oh, one last thing here's my first solution to this problem.\n",
    "\n",
    "```python\n",
    "lass Solution:\n",
    "    def lengthOfLongestSubstring(self, s: str) -> int:\n",
    "        if len(s) == 0:\n",
    "            return 0\n",
    "        if len(s) == 1:\n",
    "            return 1\n",
    "\n",
    "        dict = {}\n",
    "        start = 0\n",
    "        end = 0\n",
    "        max_len = 0\n",
    "        while end < len(s):\n",
    "            if s[end] in dict:\n",
    "                start = max(start, dict[s[end]] + 1)\n",
    "            max_len = max(max_len, end - start + 1)\n",
    "            dict[s[end]] = end\n",
    "            end += 1\n",
    "        return max_len\n",
    "\n",
    "```\n",
    "\n",
    "> this solution is messy and hard to understand. So, I don't recommend this solution.\n",
    "\n",
    "*** Complexity analysis for the sliding window solution\n",
    "\n",
    "- Time complexity : `O(n)`. We are looping through the `string` once.\n",
    "- Space complexity : `O(n)`. We are using a `set` to store the `characters` of the `string`.\n",
    "\n",
    "## <a id='toc4_5_'></a>[Problem 5: Sting to integer (8)](#toc0_)\n",
    "\n",
    "### <a id='toc4_5_1_'></a>[Problem statement](#toc0_)\n",
    "\n",
    "Implement the `myAtoi(string s)` function, which converts a `string` to a 32-bit signed integer (similar to C/C++'s `atoi` function).\n",
    "\n",
    "The algorithm for `myAtoi(string s)` is as follows:\n",
    "\n",
    "- Read in and ignore any leading whitespace.\n",
    "- Check if the next character (if not already at the end of the string) is `'-'` or `'+'`. Read this character in if it is either. This determines if the final result is negative or positive respectively. Assume the result is positive if neither is present.\n",
    "- Read in next the characters until the next non-digit charcter or the end of the input is reached. The rest of the string is ignored.\n",
    "- Convert these digits into an integer (i.e. `\"123\" -> 123`, `\"0032\" -> 32`). If no digits were read, then the integer is `0`. Change the sign as necessary (from step 2).\n",
    "- If the integer is out of the 32-bit signed integer range `[-231, 231 - 1]`, then clamp the integer so that it remains in the range. Specifically, integers less than `-231` should be clamped to `-231`, and integers greater than `231 - 1` should be clamped to `231 - 1`.\n",
    "- Return the integer as the final result.\n",
    "\n",
    "Note:\n",
    "\n",
    "- Only the space character `' '` is considered a whitespace character.\n",
    "- Do not ignore any characters other than the leading whitespace or the rest of the string after the digits.\n",
    "\n",
    "\n",
    "example 1:\n",
    "\n",
    "```\n",
    "\n",
    "input: s = \"42\"\n",
    "Output: 42\n",
    "\n",
    "```\n",
    "\n",
    "example 2:\n",
    "\n",
    "```\n",
    "\n",
    "input = \"   -42\"\n",
    "\n",
    "Output: -42\n",
    "\n",
    "```\n",
    "\n",
    "example 3:\n",
    "\n",
    "```\n",
    "\n",
    "Input: s = \"4193 with words\"\n",
    "Output: 4193\n",
    "\n",
    "```\n",
    "\n",
    "\n",
    "### <a id='toc4_5_2_'></a>[Solution](#toc0_)\n",
    "\n",
    "The problem statement is very long right? But don't worry all this thing is saying is that we have to convert a `string` to an `integer`. And we have to do some `edge case` checking.\n",
    "\n",
    "So, This is a `medium` difficulty problem because only thing hard about this problem is that the problem statement is very long. \n",
    "\n",
    "SO, we need to find out the charecters of the strings that are not `digits` and if we find one htere is no need to go through the rest of the `string` because we can be sure that the `string` is not a `number`.\n",
    "\n",
    "This problem is very straight forward. We will loop through the `string` and check if the `character` is a `digit` or not. If it is a `digit` we will add it to the `result` variable. If it is not a `digit` we will break the loop.\n",
    "L\n",
    "*** edge cases to check\n",
    "\n",
    "- If the `string` is empty return `0`.\n",
    "- If the `string` contains only `whitespace` return `0`.\n",
    "- If the `string` contains only `+` or `-` return `0`.\n",
    "- If the `string` contains `whitespace` after `+` or `-` return `0`.\n",
    "- If the value of the `string` is greater than `2^31 - 1` return `2^31 - 1`.\n",
    "- If the value of the `string` is less than `-2^31` return `-2^31`.\n",
    "\n",
    "that's all. Let's see the solution.\n",
    "\n",
    "*** Solution steps\n",
    "\n",
    "- `strip` the `string` to remove the `whitespace`.\n",
    "- Declare a `result` variable to store the `integer`.\n",
    "- check if the `string` is empty or not. If it is empty return `0`.\n",
    "- no need to check if the `string` contains only `whitespace` because we already `strip` the `string`.\n",
    "- chekc if the `first character` of the `string` is `+` or `-`. If it is `+` or `-` then we will store the `first character` in a `variable` called `sign` and remove the `first character` from the `string`.\n",
    "- Loop through the `string` and check if the `character` is a `digit` or not. If it is a `digit` we will add it to the `result` variable. If it is not a `digit` we will break the loop.\n",
    "- If the `sign` is `-` then we will multiply the `result` by `-1`.\n",
    "- If the value of the `string` is greater than `2^31 - 1` return `2^31 - 1`.\n",
    "- If the value of the `string` is less than `-2^31` return `-2^31`.\n",
    "- Return the `result` variable.\n",
    "\n",
    "*** Solution code\n",
    "\n",
    "```python\n",
    "class Solution:\n",
    "    def myAtoi(self, s: str) -> int:\n",
    "        new = s.strip()\n",
    "\n",
    "        if len(new) == 0:\n",
    "            return 0\n",
    "        \n",
    "        if new[0] == '-':\n",
    "            sign = -1\n",
    "            new = new[1:]\n",
    "        elif new[0] == '+':\n",
    "            sign = 1\n",
    "            new = new[1:]\n",
    "\n",
    "        else:\n",
    "            sign = 1\n",
    "\n",
    "        result = 0\n",
    "        for i in new:\n",
    "            if i.isdigit():\n",
    "                result = result * 10 + int(i)\n",
    "            else:\n",
    "                break\n",
    "\n",
    "        result = result * sign\n",
    "\n",
    "        if result < -2**31:\n",
    "            return -2**31\n",
    "        elif result > 2**31 - 1:\n",
    "            return 2**31 - 1\n",
    "        \n",
    "        return result\n",
    "\n",
    "```\n",
    "\n",
    "*** Complexity analysis\n",
    "\n",
    "- Time complexity : `O(n)`. We are looping through the `string` once.\n",
    "- Space complexity : `O(1)`. We are not using any extra space.\n",
    "\n",
    "## <a id='toc4_6_'></a>[Problem 6: Longest Pellindromic Substring (5)](#toc0_)\n",
    "\n",
    "### <a id='toc4_6_1_'></a>[Problem statement](#toc0_)\n",
    "\n",
    "Given a `string` `s`, return the `longest palindromic substring` in `s`.\n",
    "\n",
    "example 1:\n",
    "\n",
    "```\n",
    "\n",
    "input: s = \"babad\"\n",
    "Output: \"bab\"\n",
    "\n",
    "```\n",
    "\n",
    "example 2:\n",
    "\n",
    "```\n",
    "\n",
    "input = \"cbbd\"\n",
    "Output: \"bb\"\n",
    "\n",
    "```\n",
    "\n",
    "example 3:\n",
    "\n",
    "```\n",
    "\n",
    "Input: s = \"a\"\n",
    "Output: \"a\"\n",
    "\n",
    "```"
   ]
  },
  {
   "cell_type": "markdown",
   "metadata": {},
   "source": [
    "### <a id='toc4_6_2_'></a>[Solution](#toc0_)\n",
    "\n",
    "This is a `medium` difficulty problem. It's a difficult problem because we have to find the `longest palingdrome` in a `string` and if you know about `palingdrome` you know there is a lot of `edge cases` to checking and it's not easy to implement. So, we need to find every pelindrome in the `string` and then we have to find the `longest` one.\n",
    "\n",
    "So, i don't think it's possible to solve this problem in `O(n)` time complexity. But we can solve this problem in `O(n^2)` time complexity. \n",
    "\n",
    "> it's one of those problems where I don't know how to solve it at all and when I see the solution I think `oh`. So, don't worry if you can't solve this problem. Just try to understand the solution.\n",
    "\n",
    "It's a `dynamic programming` problem. And we need out of the box thinking to solve this problem. \n",
    "\n",
    "So, in a normal `palingdrome` problem we loop through the `string` and check if the `string` is a `palingdrome` or not by checking the `left` and `right` `characters` or making a new list then compare the `list` with the `reversed list`. But we can't do that here because The code get's very complicated and hard to understand.\n",
    "\n",
    "We need a optimized way to solve this problem. \n",
    "\n",
    "So, here's what we'll do.\n",
    "\n",
    "Instead of checking if the `string` is a `palingdrome` in a `linear` way we will expand the `string` from the `middle`. Let's see an example.\n",
    "\n",
    "```\n",
    "\n",
    "string = \"babad\"\n",
    "\n",
    "```\n",
    "\n",
    "So, we will loop through the `string` and we will expand the `string` from the `middle`. Let's see how.\n",
    "\n",
    "```\n",
    "\n",
    "string = \"babad\"\n",
    "         ^\n",
    "\n",
    "```\n",
    "\n",
    "Then we expand the `middle` charecter to the `left` and `right` and check if the `characters` are the same. If they are the same we will expand the `string` to the `left` and `right` and check if the `characters` are the same. We will keep doing this until the `characters` are not the same. Let's see an example.\n",
    "\n",
    "```\n",
    "\n",
    "string = \"babad\" #no where to expand in the left \n",
    "         ^\n",
    "\n",
    "```\n",
    "\n",
    "so we go to the next `character`.\n",
    "\n",
    "```\n",
    "\n",
    "string = \"babad\"\n",
    "           ^\n",
    "\n",
    "now we expand the middle character to the left and right and check if the characters are the same\n",
    "\n",
    "string = \"babad\"\n",
    "          ^ ^\n",
    "\n",
    "The charecters are the same and this is the new longest palingdrome\n",
    "\n",
    "and we have no where to expand in the left and right\n",
    "\n",
    "```\n",
    "\n",
    "So, we go to the next `character` and repeat the process. this way we will find the `longest palingdrome` in the `string` and our time complexity might be `O(n^2)` but it's very optimized.\n",
    "\n",
    "*** Solution steps\n",
    "\n",
    "- we take a `variable` called `result` to store the `longest palingdrome`.\n",
    "- another `variable` called `resyltLen` to store the `length` of the `longest palingdrome`.\n",
    "- the loop through the `string` using `i` as the `middle` `index`.\n",
    "- then we expand the `string` from the `middle` and check if the `characters` are the same.\n",
    "- if the `characters` are the same we will expand the `string` to the `left` and `right` and check if the `characters` are the same.\n",
    "- we will keep doing this until the `characters` are not the same.\n",
    "- every time we find a `palingdrome` we will check if the `length` of the `palingdrome` is greater than the `resultLen` variable. If it is then we will update the `resultLen` variable and the `result` variable.\n",
    "> - here's an edge case to check, we are really checking if the `length` of the `palingdrome` is odd. Because if we are checking for the middle part of the `palingdrome`. we need a way to do the same for the `even` `palingdrome`. So, we will do the same thing for the `even` `palingdrome`.\n",
    "- return the `result` variable.\n",
    "\n",
    "*** Solution code\n",
    "\n",
    "```python\n",
    "\n",
    "class Solution:\n",
    "    def longestPalindrome(self, s: str) -> str:\n",
    "        result = \"\"\n",
    "        resultLen = 0\n",
    "\n",
    "        for i in range(len(s)):\n",
    "            #checking for the odd palingdrome\n",
    "            left = i\n",
    "            right = i\n",
    "\n",
    "            # expanding the string from the middle\n",
    "            while left >= 0 and right < len(s) and s[left] == s[right]:\n",
    "                if right - left + 1 > resultLen:\n",
    "                    resultLen = right - left + 1\n",
    "                    result = s[left:right+1]\n",
    "                left -= 1\n",
    "                right += 1\n",
    "\n",
    "            #checking for the even palingdrome\n",
    "            left = i\n",
    "            right = i + 1\n",
    "\n",
    "            # expanding the string from the middle\n",
    "            while left >= 0 and right < len(s) and s[left] == s[right]:\n",
    "                if right - left + 1 > resultLen:\n",
    "                    resultLen = right - left + 1\n",
    "                    result = s[left:right+1]\n",
    "                left -= 1\n",
    "                right += 1\n",
    "\n",
    "        return result\n",
    "\n",
    "```\n",
    "\n",
    "\n",
    "And now we have  pretty optimized solution to this problem. I think you will be able to understand this solution if you read the solution steps carefully.\n",
    "\n",
    "*** Complexity analysis\n",
    "\n",
    "- Time complexity : `O(n^2)`. We are looping through the `string` once.\n",
    "- Space complexity : `O(1)`. We are not using any extra space.\n",
    "\n",
    "## <a id='toc4_7_'></a>[Problem 7: Find all anagrams in a string](#toc0_)\n",
    "\n",
    "### <a id='toc4_7_1_'></a>[Problem statement](#toc0_)\n",
    "\n",
    "Given two `strings` `s` and `p`, return an array of all the `start indices` of `p's` `anagrams` in `s`. You may return the answer in `any order`.\n",
    "\n",
    "An `Anagram` is a `word` or `phrase` formed by rearranging the letters of a different `word` or `phrase`, typically using all the original letters exactly once.\n",
    "\n",
    "example 1:\n",
    "\n",
    "```\n",
    "\n",
    "input: s = \"cbaebabacd\", p = \"abc\"\n",
    "Output: [0,6]\n",
    "\n",
    "```\n",
    "\n",
    "example 2:\n",
    "\n",
    "```\n",
    "\n",
    "input = \"abab\", p = \"ab\"\n",
    "Output: [0,1,2]\n",
    "\n",
    "```\n",
    "\n",
    "### <a id='toc4_7_2_'></a>[Solution](#toc0_)\n",
    "\n",
    "So, finding `anagrams` in a `string` is a very common problem. But returning the `start indices` of the `anagrams` is not that common. \n",
    "\n",
    "This is another `sliding window` problem mixed with `counter`. We can solve this problem in `O(n)` time complexity. Let's see how.\n",
    "\n",
    "So, we will use a `counter` to count the `characters` of the `string` `p`. Then we will loop through the `string` `s` and use the counter again to count the `characters` from `left` to `right` which will be the `length` of the `string` `p`. \n",
    "\n",
    "Then we will compare the `counters`. If the `counters` are the same then we will add the `left` `pointer` to the `result` `list`. \n",
    "\n",
    "The left and the right pointer will be moved by `1` every time we loop through the `string` `s`. \n",
    "\n",
    "*** Solution steps\n",
    "\n",
    "- We will declare a `result` `list` to store the `start indices` of the `anagrams`.\n",
    "- then declare two `counter` one for the `string` `p` and one for the `string` `s`.\n",
    "- then we will loop through the `string` `p` and count the `characters` using the `counter` for the `string` `p`.\n",
    "- At the sam etime we will loop through the `string` `s` and count the `characters` using the `counter` for the `string` `s`. This way we will count the `characters` of the `string` `s` from the first `index` to the `length` of the `string` `p`.\n",
    "- Then we will compare the `counters`. If the `counters` are the same then we will add the `left` `pointer` to the `result` `list`.\n",
    "- Then we will move the `left` and `right` `pointers` by `1` and repeat the process.\n",
    "- Return the `result` `list`.\n",
    "\n",
    "*** Solution code\n",
    "\n",
    "```python\n",
    "\n",
    "class Solution:\n",
    "    def findAnagrams(self, s: str, p: str) -> List[int]:\n",
    "        if len(s) < len(p):\n",
    "            return []\n",
    "        \n",
    "        #declaring a result list to store the start indices of the anagrams\n",
    "        p_counter, s_counter = {}, {}\n",
    "\n",
    "        #looping through the string p and counting the characters\n",
    "        for i in range(len(p)):\n",
    "            if p[i] not in p_counter:\n",
    "                p_counter[p[i]] = 1\n",
    "            else:\n",
    "                p_counter[p[i]] += 1\n",
    "\n",
    "            if s[i] not in s_counter:\n",
    "                s_counter[s[i]] = 1\n",
    "            else:\n",
    "                s_counter[s[i]] += 1\n",
    "\n",
    "        result = [0] if p_counter == s_counter else []\n",
    "\n",
    "        #declaring the left and right pointers\n",
    "        left = 0\n",
    "\n",
    "        #looping through the string s\n",
    "        for right in range(len(p), len(s)):\n",
    "            #adding the character to the s_counter\n",
    "            if s[right] not in s_counter:\n",
    "                s_counter[s[right]] = 1\n",
    "            else:\n",
    "                s_counter[s[right]] += 1\n",
    "\n",
    "            #removing the character from the s_counter\n",
    "            s_counter[s[left]] -= 1\n",
    "            if s_counter[s[left]] == 0:\n",
    "                del s_counter[s[left]]\n",
    "            left += 1\n",
    "\n",
    "            #checking if the counters are the same\n",
    "            if p_counter == s_counter:\n",
    "                result.append(left)\n",
    "\n",
    "        return result\n",
    "\n",
    "\n",
    "```\n",
    "\n",
    "*** Complexity analysis\n",
    "\n",
    "- Time complexity : `O(n)`. We are looping through the `string` once.\n",
    "- Space complexity : `O(1)`. We are not using any extra space.\n",
    "\n",
    "Looking at this problem, I think you know This is not my solution. I got this solution from someone else. I don't remember who it was. But I think this is a very good solution. So, I added it here. \n",
    "\n",
    "My solution was exactly the same concept but the impelementation was a little bit different. Because I didn't do any optimization. SO, mine was slower But the idea was the same.\n",
    "\n",
    "Counting the `characters` of the `string` `s` from the `left` to `right` ina sliding window way is then compare the `counters`. So, you can try my solution as well it's also a good solution but slower.\n",
    "\n",
    "```python\n",
    "\n",
    "class Solution:\n",
    "    def findAnagrams(self, s: str, p: str) -> List[int]:\n",
    "        counter = Counter(p) #counting the characters of the string p\n",
    "        result = [] #declaring a list to store the start indices of the anagrams\n",
    "        left = 0 #declaring a left pointer\n",
    "        right = len(p) - 1 #declaring a right pointer\n",
    "\n",
    "        #looping through the string s using the right pointer\n",
    "        while right < len(s):\n",
    "            #counting the characters from left to right\n",
    "            temp = Counter(s[left:right+1])\n",
    "\n",
    "            #comparing the counters\n",
    "            if temp == counter:\n",
    "                result.append(left) #adding the left pointer to the result list\n",
    "\n",
    "            left += 1 #moving the left pointer by 1\n",
    "            right += 1 #moving the right pointer by 1\n",
    "\n",
    "        return result #returning the result list\n",
    "\n",
    "```\n",
    "\n",
    "## <a id='toc4_8_'></a>[Problem 8: Minimum window substring (76)](#toc0_)\n",
    "\n",
    "### <a id='toc4_8_1_'></a>[Problem statement](#toc0_)\n",
    "\n",
    "Given two `strings` `s` and `t` of lengths `m` and `n` respectively, return the `minimum window substring` of `s` such that every character in `t` (including duplicates) is included in the window. If there is no such substring, return the empty `string` `\"\"`.\n",
    "\n",
    "The `testcases` will be generated such that the `answer` is unique.\n",
    "\n",
    "A `substring` is a `contiguous sequence` of `characters` within the `string`.\n",
    "\n",
    "example 1:\n",
    "\n",
    "```\n",
    "\n",
    "input: s = \"ADOBECODEBANC\", t = \"ABC\"\n",
    "Output: \"BANC\"\n",
    "\n",
    "```\n",
    "\n",
    "example 2:\n",
    "\n",
    "```\n",
    "\n",
    "input = \"a\", t = \"a\"\n",
    "Output: \"a\"\n",
    "\n",
    "```\n",
    "\n",
    "### <a id='toc4_8_2_'></a>[Solution](#toc0_)\n",
    "\n",
    "This was a pain in the ass. This problem needs a lot of moving parts. \n",
    "\n",
    "Thiis another `sliding window` problem and we need to keep track of many things. \n",
    "\n",
    "SO, the idea is to go through the list and find substrings contiaining the the charecters of `t`. So, we will start from the beginning and a pointer will be there and pointer will go through the whole string and whenever we get all the charecter of the string `t` inside the window we will check for it's length and if the length is smaller then the previous found substring then we replace the new string.\n",
    "\n",
    "This is the general idea. ANd i won't give you the steps and give you the python implementation directly because the steps will confuse you more so i'll try to add the steps in the comments in the program.\n",
    "\n",
    "```python \n",
    "\n",
    "class Solution:\n",
    "    def minWindow(self, s: str, t: str) -> str:\n",
    "        if len(s) < len(t) or len(s) == 0 or t == \"\":\n",
    "            return \"\"\n",
    "\n",
    "        t_counter = Counter(t) #counting the characters of the string t\n",
    "        s_counter = Counter() #counting the characters of the string s\n",
    "        have , need = 0, len(t_counter) #have is the number of characters of the string t that are in the window and need is the number of characters of the string t that are required\n",
    "\n",
    "        result, result_length = [-1, -1], float(\"infinity\") #result is the start and end of the substring and result_length is the length of the substring\n",
    "\n",
    "        l = 0 \n",
    "\n",
    "        for r in range(len(s)):\n",
    "\n",
    "            c = s[r]\n",
    "            s_counter[c] += 1 #counting the characters of the string s\n",
    "\n",
    "            if c in t_counter and s_counter[c] == t_counter[c]:\n",
    "                have += 1 #increasing the number of characters of the string t that are in the window\n",
    "\n",
    "            while have == need: #if the number of characters of the string t that are in the window is equal to the number of characters of the string t that are required\n",
    "\n",
    "                if (r - l + 1) < result_length: #if the length of the substring is smaller then the previous found substring\n",
    "                    result = [l, r] #updating the result\n",
    "                    result_length = (r - l + 1) #updating the result_length\n",
    "\n",
    "                s_counter[s[l]] -= 1 #decreasing the number of characters of the string s\n",
    "\n",
    "                if s[l] in t_counter and s_counter[s[l]] < t_counter[s[l]]:\n",
    "                    have -= 1 #decreasing the number of characters of the string t that are in the window\n",
    "\n",
    "                l += 1 #moving the left pointer by 1\n",
    "\n",
    "        if result[0] == -1:\n",
    "            return \"\"\n",
    "\n",
    "        l, r = result\n",
    "        return s[l:r+1] if result_length != float(\"infinity\") else \"\"\n",
    "\n",
    "```\n",
    "\n",
    "### <a id='toc4_8_3_'></a>[Time complexity](#toc0_)\n",
    "\n",
    "O(n) where n is the length of the string\n",
    "\n",
    "### <a id='toc4_8_4_'></a>[Space complexity](#toc0_)\n",
    "\n",
    "O(n) where n is the length of the string\n",
    "\n",
    "AAAANNNNND we are done. This was a long one. I hope you enjoyed it. I'll see you in the next one.\n",
    "\n",
    "\n",
    "# <a id='toc5_'></a>[Conclusion](#toc0_)\n",
    "\n",
    "I hope this was helpful and you liked it.\n",
    "\n",
    "I have been preparing myself for interviews although i haven't really got any calls yet. Keep me in your prayers. I hope i get a job soon and i hope you enjoyed it.\n",
    "\n",
    "I'll see you in the next one. Until then, adios amigos.\n",
    "\n",
    "##### <a id='toc5_1_1_1_1_'></a>[Happy coding :)](#toc0_)"
   ]
  },
  {
   "cell_type": "code",
   "execution_count": null,
   "metadata": {},
   "outputs": [],
   "source": []
  }
 ],
 "metadata": {
  "kernelspec": {
   "display_name": "Python 3 (ipykernel)",
   "language": "python",
   "name": "python3"
  },
  "language_info": {
   "codemirror_mode": {
    "name": "ipython",
    "version": 3
   },
   "file_extension": ".py",
   "mimetype": "text/x-python",
   "name": "python",
   "nbconvert_exporter": "python",
   "pygments_lexer": "ipython3",
   "version": "3.11.0"
  }
 },
 "nbformat": 4,
 "nbformat_minor": 4
}
