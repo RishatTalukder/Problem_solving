{
 "cells": [
  {
   "cell_type": "markdown",
   "metadata": {},
   "source": [
    "<h1 align=\"center\"> Everything about String</h1>\n",
    "\n",
    "`String` is one of the most important data structures in programming. It is a sequence of characters. In this article I talk what is `string`, how to declare `string` in `python`, how to access `string` elements, how to slice `string`, how to iterate `string`, how to reverse `string` and more importantly how to solve `string` problems in `leetcode`.\n",
    "\n",
    "This is another article of my `mastering competitive programming` series. If you are interested to learn more about competitive programming, you can check out my other articles on this topic on `linkedin`.\n",
    "\n",
    "*** Follow me on:\n",
    "\n",
    "Linkedin: https://www.linkedin.com/in/md-rishat-talukder-a22157239\n",
    "\n",
    "Github: https://github.com/RishatTalukder/leetcoding\n",
    "\n",
    "Youtube: https://www.youtube.com/@itvaya\n",
    "\n",
    "*** Prerequisites:\n",
    "\n",
    "- Basic knowledge of `python` and `data structures`\n",
    "\n",
    "*** table of contents:\n",
    "\n",
    "\n",
    "# Introduction to String\n",
    "\n",
    "## What is String?\n",
    "\n"
   ]
  },
  {
   "cell_type": "code",
   "execution_count": null,
   "metadata": {},
   "outputs": [],
   "source": []
  }
 ],
 "metadata": {
  "language_info": {
   "name": "python"
  }
 },
 "nbformat": 4,
 "nbformat_minor": 2
}
