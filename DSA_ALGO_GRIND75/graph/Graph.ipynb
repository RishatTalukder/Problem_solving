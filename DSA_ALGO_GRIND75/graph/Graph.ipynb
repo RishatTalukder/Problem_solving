{
 "cells": [
  {
   "cell_type": "markdown",
   "metadata": {},
   "source": [
    "<h1 align=\"center\"> Everything about graphs <h1>\n",
    "\n",
    "## Introduction\n",
    "\n",
    "`Graphs` are a fundamental `data structure` in computer science. They can be used to represent many things, such as networks, maps, and circuits. Graphs are made up of `vertices` (also called `nodes`) and `edges` that connect them. The edges may be `directed` or `undirected`. In a directed graph, the edges have a direction, while in an undirected graph, the edges do not have a direction."
   ]
  },
  {
   "cell_type": "code",
   "execution_count": null,
   "metadata": {},
   "outputs": [],
   "source": []
  }
 ],
 "metadata": {
  "language_info": {
   "name": "python"
  }
 },
 "nbformat": 4,
 "nbformat_minor": 2
}
